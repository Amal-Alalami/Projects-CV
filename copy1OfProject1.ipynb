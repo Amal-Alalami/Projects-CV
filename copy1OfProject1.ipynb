{
  "nbformat": 4,
  "nbformat_minor": 0,
  "metadata": {
    "colab": {
      "provenance": [],
      "authorship_tag": "ABX9TyO1L7sGEyukAjWzjCOIpG47",
      "include_colab_link": true
    },
    "kernelspec": {
      "name": "python3",
      "display_name": "Python 3"
    },
    "language_info": {
      "name": "python"
    }
  },
  "cells": [
    {
      "cell_type": "markdown",
      "metadata": {
        "id": "view-in-github",
        "colab_type": "text"
      },
      "source": [
        "<a href=\"https://colab.research.google.com/github/Amal-Alalami/Projects-CV/blob/main/copy1OfProject1.ipynb\" target=\"_parent\"><img src=\"https://colab.research.google.com/assets/colab-badge.svg\" alt=\"Open In Colab\"/></a>"
      ]
    },
    {
      "cell_type": "code",
      "execution_count": 31,
      "metadata": {
        "id": "NFtM0zcbyU8U"
      },
      "outputs": [],
      "source": [
        "import cv2\n",
        "import os\n",
        "import pandas as pd\n",
        "import seaborn as sns\n",
        "import tensorflow as tf\n",
        "import numpy as np\n",
        "\n",
        "import matplotlib.pyplot as plt\n",
        "from imblearn.over_sampling import SMOTE\n",
        "from google.colab.patches import cv2_imshow\n",
        "\n",
        "# to generate data\n",
        "from keras.preprocessing.image import ImageDataGenerator\n",
        "\n",
        "# to build model\n",
        "from keras.models import Sequential\n",
        "from keras.layers import Dense,Conv2D,MaxPool2D,Flatten,Dropout\n",
        "%matplotlib inline"
      ]
    },
    {
      "cell_type": "markdown",
      "source": [
        "# Upload Dataset"
      ],
      "metadata": {
        "id": "UTGIyVtefqsg"
      }
    },
    {
      "cell_type": "code",
      "source": [
        "!7z x archive.zip\n"
      ],
      "metadata": {
        "colab": {
          "base_uri": "https://localhost:8080/"
        },
        "id": "jBCO88_7ycdk",
        "outputId": "341e687c-d6d0-4347-ead6-f42f7f3c62d6"
      },
      "execution_count": null,
      "outputs": [
        {
          "output_type": "stream",
          "name": "stdout",
          "text": [
            "\n",
            "7-Zip [64] 16.02 : Copyright (c) 1999-2016 Igor Pavlov : 2016-05-21\n",
            "p7zip Version 16.02 (locale=en_US.UTF-8,Utf16=on,HugeFiles=on,64 bits,2 CPUs Intel(R) Xeon(R) CPU @ 2.20GHz (406F0),ASM,AES-NI)\n",
            "\n",
            "Scanning the drive for archives:\n",
            "  0M Scan\b\b\b\b\b\b\b\b\b         \b\b\b\b\b\b\b\b\b1 file, 35779075 bytes (35 MiB)\n",
            "\n",
            "Extracting archive: archive.zip\n",
            " 64% 4096 Open\b\b\b\b\b\b\b\b\b\b\b\b\b\b              \b\b\b\b\b\b\b\b\b\b\b\b\b\b--\n",
            "Path = archive.zip\n",
            "Type = zip\n",
            "Physical Size = 35779075\n",
            "\n",
            "  0%\b\b\b\b    \b\b\b\b 11% 787 - Alzheimer_s Dataset/test/NonDemented/32 (60).jpg\b\b\b\b\b\b\b\b\b\b\b\b\b\b\b\b\b\b\b\b\b\b\b\b\b\b\b\b\b\b\b\b\b\b\b\b\b\b\b\b\b\b\b\b\b\b\b\b\b\b\b\b\b\b\b\b\b\b\b                                                           \b\b\b\b\b\b\b\b\b\b\b\b\b\b\b\b\b\b\b\b\b\b\b\b\b\b\b\b\b\b\b\b\b\b\b\b\b\b\b\b\b\b\b\b\b\b\b\b\b\b\b\b\b\b\b\b\b\b\b 23% 1561 - Alzheimer_s Dataset/train/MildDemented/mildDem352.jpg\b\b\b\b\b\b\b\b\b\b\b\b\b\b\b\b\b\b\b\b\b\b\b\b\b\b\b\b\b\b\b\b\b\b\b\b\b\b\b\b\b\b\b\b\b\b\b\b\b\b\b\b\b\b\b\b\b\b\b\b\b\b\b\b\b                                                                 \b\b\b\b\b\b\b\b\b\b\b\b\b\b\b\b\b\b\b\b\b\b\b\b\b\b\b\b\b\b\b\b\b\b\b\b\b\b\b\b\b\b\b\b\b\b\b\b\b\b\b\b\b\b\b\b\b\b\b\b\b\b\b\b\b 33% 2174 - Alzheimer_s Dataset/train/NonDemented/nonDem1110.jpg\b\b\b\b\b\b\b\b\b\b\b\b\b\b\b\b\b\b\b\b\b\b\b\b\b\b\b\b\b\b\b\b\b\b\b\b\b\b\b\b\b\b\b\b\b\b\b\b\b\b\b\b\b\b\b\b\b\b\b\b\b\b\b\b                                                                \b\b\b\b\b\b\b\b\b\b\b\b\b\b\b\b\b\b\b\b\b\b\b\b\b\b\b\b\b\b\b\b\b\b\b\b\b\b\b\b\b\b\b\b\b\b\b\b\b\b\b\b\b\b\b\b\b\b\b\b\b\b\b\b 42% 2765 - Alzheimer_s Dataset/train/NonDemented/nonDem1643.jpg\b\b\b\b\b\b\b\b\b\b\b\b\b\b\b\b\b\b\b\b\b\b\b\b\b\b\b\b\b\b\b\b\b\b\b\b\b\b\b\b\b\b\b\b\b\b\b\b\b\b\b\b\b\b\b\b\b\b\b\b\b\b\b\b                                                                \b\b\b\b\b\b\b\b\b\b\b\b\b\b\b\b\b\b\b\b\b\b\b\b\b\b\b\b\b\b\b\b\b\b\b\b\b\b\b\b\b\b\b\b\b\b\b\b\b\b\b\b\b\b\b\b\b\b\b\b\b\b\b\b 48% 3141 - Alzheimer_s Dataset/train/NonDemented/nonDem1982.jpg\b\b\b\b\b\b\b\b\b\b\b\b\b\b\b\b\b\b\b\b\b\b\b\b\b\b\b\b\b\b\b\b\b\b\b\b\b\b\b\b\b\b\b\b\b\b\b\b\b\b\b\b\b\b\b\b\b\b\b\b\b\b\b\b                                                                \b\b\b\b\b\b\b\b\b\b\b\b\b\b\b\b\b\b\b\b\b\b\b\b\b\b\b\b\b\b\b\b\b\b\b\b\b\b\b\b\b\b\b\b\b\b\b\b\b\b\b\b\b\b\b\b\b\b\b\b\b\b\b\b 53% 3436 - Alzheimer_s Dataset/train/NonDemented/nonDem2247.jpg\b\b\b\b\b\b\b\b\b\b\b\b\b\b\b\b\b\b\b\b\b\b\b\b\b\b\b\b\b\b\b\b\b\b\b\b\b\b\b\b\b\b\b\b\b\b\b\b\b\b\b\b\b\b\b\b\b\b\b\b\b\b\b\b                                                                \b\b\b\b\b\b\b\b\b\b\b\b\b\b\b\b\b\b\b\b\b\b\b\b\b\b\b\b\b\b\b\b\b\b\b\b\b\b\b\b\b\b\b\b\b\b\b\b\b\b\b\b\b\b\b\b\b\b\b\b\b\b\b\b 56% 3651 - Alzheimer_s Dataset/train/NonDemented/nonDem2440.jpg\b\b\b\b\b\b\b\b\b\b\b\b\b\b\b\b\b\b\b\b\b\b\b\b\b\b\b\b\b\b\b\b\b\b\b\b\b\b\b\b\b\b\b\b\b\b\b\b\b\b\b\b\b\b\b\b\b\b\b\b\b\b\b\b                                                                \b\b\b\b\b\b\b\b\b\b\b\b\b\b\b\b\b\b\b\b\b\b\b\b\b\b\b\b\b\b\b\b\b\b\b\b\b\b\b\b\b\b\b\b\b\b\b\b\b\b\b\b\b\b\b\b\b\b\b\b\b\b\b\b 59% 3873 - Alzheimer_s Dataset/train/NonDemented/nonDem337.jpg\b\b\b\b\b\b\b\b\b\b\b\b\b\b\b\b\b\b\b\b\b\b\b\b\b\b\b\b\b\b\b\b\b\b\b\b\b\b\b\b\b\b\b\b\b\b\b\b\b\b\b\b\b\b\b\b\b\b\b\b\b\b\b                                                               \b\b\b\b\b\b\b\b\b\b\b\b\b\b\b\b\b\b\b\b\b\b\b\b\b\b\b\b\b\b\b\b\b\b\b\b\b\b\b\b\b\b\b\b\b\b\b\b\b\b\b\b\b\b\b\b\b\b\b\b\b\b\b 63% 4092 - Alzheimer_s Dataset/train/NonDemented/nonDem534.jpg\b\b\b\b\b\b\b\b\b\b\b\b\b\b\b\b\b\b\b\b\b\b\b\b\b\b\b\b\b\b\b\b\b\b\b\b\b\b\b\b\b\b\b\b\b\b\b\b\b\b\b\b\b\b\b\b\b\b\b\b\b\b\b                                                               \b\b\b\b\b\b\b\b\b\b\b\b\b\b\b\b\b\b\b\b\b\b\b\b\b\b\b\b\b\b\b\b\b\b\b\b\b\b\b\b\b\b\b\b\b\b\b\b\b\b\b\b\b\b\b\b\b\b\b\b\b\b\b 66% 4293 - Alzheimer_s Dataset/train/NonDemented/nonDem715.jpg\b\b\b\b\b\b\b\b\b\b\b\b\b\b\b\b\b\b\b\b\b\b\b\b\b\b\b\b\b\b\b\b\b\b\b\b\b\b\b\b\b\b\b\b\b\b\b\b\b\b\b\b\b\b\b\b\b\b\b\b\b\b\b                                                               \b\b\b\b\b\b\b\b\b\b\b\b\b\b\b\b\b\b\b\b\b\b\b\b\b\b\b\b\b\b\b\b\b\b\b\b\b\b\b\b\b\b\b\b\b\b\b\b\b\b\b\b\b\b\b\b\b\b\b\b\b\b\b 69% 4471\b\b\b\b\b\b\b\b\b         \b\b\b\b\b\b\b\b\b 74% 4769 - Alzheimer_s Dataset/train/VeryMildDemented/verymildDem1142.jpg\b\b\b\b\b\b\b\b\b\b\b\b\b\b\b\b\b\b\b\b\b\b\b\b\b\b\b\b\b\b\b\b\b\b\b\b\b\b\b\b\b\b\b\b\b\b\b\b\b\b\b\b\b\b\b\b\b\b\b\b\b\b\b\b\b\b\b\b\b\b\b\b\b\b                                                                          \b\b\b\b\b\b\b\b\b\b\b\b\b\b\b\b\b\b\b\b\b\b\b\b\b\b\b\b\b\b\b\b\b\b\b\b\b\b\b\b\b\b\b\b\b\b\b\b\b\b\b\b\b\b\b\b\b\b\b\b\b\b\b\b\b\b\b\b\b\b\b\b\b\b 82% 5327\b\b\b\b\b\b\b\b\b         \b\b\b\b\b\b\b\b\b 88% 5716 - Alzheimer_s Dataset/train/VeryMildDemented/verymildDem383.jpg\b\b\b\b\b\b\b\b\b\b\b\b\b\b\b\b\b\b\b\b\b\b\b\b\b\b\b\b\b\b\b\b\b\b\b\b\b\b\b\b\b\b\b\b\b\b\b\b\b\b\b\b\b\b\b\b\b\b\b\b\b\b\b\b\b\b\b\b\b\b\b\b\b                                                                         \b\b\b\b\b\b\b\b\b\b\b\b\b\b\b\b\b\b\b\b\b\b\b\b\b\b\b\b\b\b\b\b\b\b\b\b\b\b\b\b\b\b\b\b\b\b\b\b\b\b\b\b\b\b\b\b\b\b\b\b\b\b\b\b\b\b\b\b\b\b\b\b\b 93% 6024 - Alzheimer_s Dataset/train/VeryMildDemented/verymildDem660.jpg\b\b\b\b\b\b\b\b\b\b\b\b\b\b\b\b\b\b\b\b\b\b\b\b\b\b\b\b\b\b\b\b\b\b\b\b\b\b\b\b\b\b\b\b\b\b\b\b\b\b\b\b\b\b\b\b\b\b\b\b\b\b\b\b\b\b\b\b\b\b\b\b\b                                                                         \b\b\b\b\b\b\b\b\b\b\b\b\b\b\b\b\b\b\b\b\b\b\b\b\b\b\b\b\b\b\b\b\b\b\b\b\b\b\b\b\b\b\b\b\b\b\b\b\b\b\b\b\b\b\b\b\b\b\b\b\b\b\b\b\b\b\b\b\b\b\b\b\b 98% 6283 - Alzheimer_s Dataset/train/VeryMildDemented/verymildDem894.jpg\b\b\b\b\b\b\b\b\b\b\b\b\b\b\b\b\b\b\b\b\b\b\b\b\b\b\b\b\b\b\b\b\b\b\b\b\b\b\b\b\b\b\b\b\b\b\b\b\b\b\b\b\b\b\b\b\b\b\b\b\b\b\b\b\b\b\b\b\b\b\b\b\b                                                                         \b\b\b\b\b\b\b\b\b\b\b\b\b\b\b\b\b\b\b\b\b\b\b\b\b\b\b\b\b\b\b\b\b\b\b\b\b\b\b\b\b\b\b\b\b\b\b\b\b\b\b\b\b\b\b\b\b\b\b\b\b\b\b\b\b\b\b\b\b\b\b\b\bEverything is Ok\n",
            "\n",
            "Files: 6400\n",
            "Size:       34703396\n",
            "Compressed: 35779075\n"
          ]
        }
      ]
    },
    {
      "cell_type": "markdown",
      "source": [
        "# **Explore Data Characteristics and Visualize Sample Images**"
      ],
      "metadata": {
        "id": "15xS79d9Kwcq"
      }
    },
    {
      "cell_type": "code",
      "source": [
        "images = []\n",
        "classes = []\n",
        "for subfolder in os.listdir('/content/Alzheimer_s Dataset'):\n",
        "    subfolder_path = os.path.join('/content/Alzheimer_s Dataset', subfolder)\n",
        "    for folder in os.listdir(subfolder_path):\n",
        "        subfolder_path2=os.path.join(subfolder_path,folder)\n",
        "        for image_filename in os.listdir(subfolder_path2):\n",
        "            image_path = os.path.join(subfolder_path2, image_filename)\n",
        "            images.append(image_path)\n",
        "            classes.append(folder)\n",
        "df = pd.DataFrame({'image': images, 'class': classes})\n",
        "df"
      ],
      "metadata": {
        "colab": {
          "base_uri": "https://localhost:8080/",
          "height": 424
        },
        "id": "G8-bLR7zK39r",
        "outputId": "fab416ee-1e07-4dfe-b4f8-1f749e896eae"
      },
      "execution_count": null,
      "outputs": [
        {
          "output_type": "execute_result",
          "data": {
            "text/plain": [
              "                                                  image             class\n",
              "0     /content/Alzheimer_s Dataset/test/VeryMildDeme...  VeryMildDemented\n",
              "1     /content/Alzheimer_s Dataset/test/VeryMildDeme...  VeryMildDemented\n",
              "2     /content/Alzheimer_s Dataset/test/VeryMildDeme...  VeryMildDemented\n",
              "3     /content/Alzheimer_s Dataset/test/VeryMildDeme...  VeryMildDemented\n",
              "4     /content/Alzheimer_s Dataset/test/VeryMildDeme...  VeryMildDemented\n",
              "...                                                 ...               ...\n",
              "6395  /content/Alzheimer_s Dataset/train/ModerateDem...  ModerateDemented\n",
              "6396  /content/Alzheimer_s Dataset/train/ModerateDem...  ModerateDemented\n",
              "6397  /content/Alzheimer_s Dataset/train/ModerateDem...  ModerateDemented\n",
              "6398  /content/Alzheimer_s Dataset/train/ModerateDem...  ModerateDemented\n",
              "6399  /content/Alzheimer_s Dataset/train/ModerateDem...  ModerateDemented\n",
              "\n",
              "[6400 rows x 2 columns]"
            ],
            "text/html": [
              "\n",
              "  <div id=\"df-7e78b219-d689-46f0-8460-50b6bf1d9bfa\" class=\"colab-df-container\">\n",
              "    <div>\n",
              "<style scoped>\n",
              "    .dataframe tbody tr th:only-of-type {\n",
              "        vertical-align: middle;\n",
              "    }\n",
              "\n",
              "    .dataframe tbody tr th {\n",
              "        vertical-align: top;\n",
              "    }\n",
              "\n",
              "    .dataframe thead th {\n",
              "        text-align: right;\n",
              "    }\n",
              "</style>\n",
              "<table border=\"1\" class=\"dataframe\">\n",
              "  <thead>\n",
              "    <tr style=\"text-align: right;\">\n",
              "      <th></th>\n",
              "      <th>image</th>\n",
              "      <th>class</th>\n",
              "    </tr>\n",
              "  </thead>\n",
              "  <tbody>\n",
              "    <tr>\n",
              "      <th>0</th>\n",
              "      <td>/content/Alzheimer_s Dataset/test/VeryMildDeme...</td>\n",
              "      <td>VeryMildDemented</td>\n",
              "    </tr>\n",
              "    <tr>\n",
              "      <th>1</th>\n",
              "      <td>/content/Alzheimer_s Dataset/test/VeryMildDeme...</td>\n",
              "      <td>VeryMildDemented</td>\n",
              "    </tr>\n",
              "    <tr>\n",
              "      <th>2</th>\n",
              "      <td>/content/Alzheimer_s Dataset/test/VeryMildDeme...</td>\n",
              "      <td>VeryMildDemented</td>\n",
              "    </tr>\n",
              "    <tr>\n",
              "      <th>3</th>\n",
              "      <td>/content/Alzheimer_s Dataset/test/VeryMildDeme...</td>\n",
              "      <td>VeryMildDemented</td>\n",
              "    </tr>\n",
              "    <tr>\n",
              "      <th>4</th>\n",
              "      <td>/content/Alzheimer_s Dataset/test/VeryMildDeme...</td>\n",
              "      <td>VeryMildDemented</td>\n",
              "    </tr>\n",
              "    <tr>\n",
              "      <th>...</th>\n",
              "      <td>...</td>\n",
              "      <td>...</td>\n",
              "    </tr>\n",
              "    <tr>\n",
              "      <th>6395</th>\n",
              "      <td>/content/Alzheimer_s Dataset/train/ModerateDem...</td>\n",
              "      <td>ModerateDemented</td>\n",
              "    </tr>\n",
              "    <tr>\n",
              "      <th>6396</th>\n",
              "      <td>/content/Alzheimer_s Dataset/train/ModerateDem...</td>\n",
              "      <td>ModerateDemented</td>\n",
              "    </tr>\n",
              "    <tr>\n",
              "      <th>6397</th>\n",
              "      <td>/content/Alzheimer_s Dataset/train/ModerateDem...</td>\n",
              "      <td>ModerateDemented</td>\n",
              "    </tr>\n",
              "    <tr>\n",
              "      <th>6398</th>\n",
              "      <td>/content/Alzheimer_s Dataset/train/ModerateDem...</td>\n",
              "      <td>ModerateDemented</td>\n",
              "    </tr>\n",
              "    <tr>\n",
              "      <th>6399</th>\n",
              "      <td>/content/Alzheimer_s Dataset/train/ModerateDem...</td>\n",
              "      <td>ModerateDemented</td>\n",
              "    </tr>\n",
              "  </tbody>\n",
              "</table>\n",
              "<p>6400 rows × 2 columns</p>\n",
              "</div>\n",
              "    <div class=\"colab-df-buttons\">\n",
              "\n",
              "  <div class=\"colab-df-container\">\n",
              "    <button class=\"colab-df-convert\" onclick=\"convertToInteractive('df-7e78b219-d689-46f0-8460-50b6bf1d9bfa')\"\n",
              "            title=\"Convert this dataframe to an interactive table.\"\n",
              "            style=\"display:none;\">\n",
              "\n",
              "  <svg xmlns=\"http://www.w3.org/2000/svg\" height=\"24px\" viewBox=\"0 -960 960 960\">\n",
              "    <path d=\"M120-120v-720h720v720H120Zm60-500h600v-160H180v160Zm220 220h160v-160H400v160Zm0 220h160v-160H400v160ZM180-400h160v-160H180v160Zm440 0h160v-160H620v160ZM180-180h160v-160H180v160Zm440 0h160v-160H620v160Z\"/>\n",
              "  </svg>\n",
              "    </button>\n",
              "\n",
              "  <style>\n",
              "    .colab-df-container {\n",
              "      display:flex;\n",
              "      gap: 12px;\n",
              "    }\n",
              "\n",
              "    .colab-df-convert {\n",
              "      background-color: #E8F0FE;\n",
              "      border: none;\n",
              "      border-radius: 50%;\n",
              "      cursor: pointer;\n",
              "      display: none;\n",
              "      fill: #1967D2;\n",
              "      height: 32px;\n",
              "      padding: 0 0 0 0;\n",
              "      width: 32px;\n",
              "    }\n",
              "\n",
              "    .colab-df-convert:hover {\n",
              "      background-color: #E2EBFA;\n",
              "      box-shadow: 0px 1px 2px rgba(60, 64, 67, 0.3), 0px 1px 3px 1px rgba(60, 64, 67, 0.15);\n",
              "      fill: #174EA6;\n",
              "    }\n",
              "\n",
              "    .colab-df-buttons div {\n",
              "      margin-bottom: 4px;\n",
              "    }\n",
              "\n",
              "    [theme=dark] .colab-df-convert {\n",
              "      background-color: #3B4455;\n",
              "      fill: #D2E3FC;\n",
              "    }\n",
              "\n",
              "    [theme=dark] .colab-df-convert:hover {\n",
              "      background-color: #434B5C;\n",
              "      box-shadow: 0px 1px 3px 1px rgba(0, 0, 0, 0.15);\n",
              "      filter: drop-shadow(0px 1px 2px rgba(0, 0, 0, 0.3));\n",
              "      fill: #FFFFFF;\n",
              "    }\n",
              "  </style>\n",
              "\n",
              "    <script>\n",
              "      const buttonEl =\n",
              "        document.querySelector('#df-7e78b219-d689-46f0-8460-50b6bf1d9bfa button.colab-df-convert');\n",
              "      buttonEl.style.display =\n",
              "        google.colab.kernel.accessAllowed ? 'block' : 'none';\n",
              "\n",
              "      async function convertToInteractive(key) {\n",
              "        const element = document.querySelector('#df-7e78b219-d689-46f0-8460-50b6bf1d9bfa');\n",
              "        const dataTable =\n",
              "          await google.colab.kernel.invokeFunction('convertToInteractive',\n",
              "                                                    [key], {});\n",
              "        if (!dataTable) return;\n",
              "\n",
              "        const docLinkHtml = 'Like what you see? Visit the ' +\n",
              "          '<a target=\"_blank\" href=https://colab.research.google.com/notebooks/data_table.ipynb>data table notebook</a>'\n",
              "          + ' to learn more about interactive tables.';\n",
              "        element.innerHTML = '';\n",
              "        dataTable['output_type'] = 'display_data';\n",
              "        await google.colab.output.renderOutput(dataTable, element);\n",
              "        const docLink = document.createElement('div');\n",
              "        docLink.innerHTML = docLinkHtml;\n",
              "        element.appendChild(docLink);\n",
              "      }\n",
              "    </script>\n",
              "  </div>\n",
              "\n",
              "\n",
              "<div id=\"df-21aba1c8-04b0-417f-b9fe-4911f5cbc9e6\">\n",
              "  <button class=\"colab-df-quickchart\" onclick=\"quickchart('df-21aba1c8-04b0-417f-b9fe-4911f5cbc9e6')\"\n",
              "            title=\"Suggest charts\"\n",
              "            style=\"display:none;\">\n",
              "\n",
              "<svg xmlns=\"http://www.w3.org/2000/svg\" height=\"24px\"viewBox=\"0 0 24 24\"\n",
              "     width=\"24px\">\n",
              "    <g>\n",
              "        <path d=\"M19 3H5c-1.1 0-2 .9-2 2v14c0 1.1.9 2 2 2h14c1.1 0 2-.9 2-2V5c0-1.1-.9-2-2-2zM9 17H7v-7h2v7zm4 0h-2V7h2v10zm4 0h-2v-4h2v4z\"/>\n",
              "    </g>\n",
              "</svg>\n",
              "  </button>\n",
              "\n",
              "<style>\n",
              "  .colab-df-quickchart {\n",
              "      --bg-color: #E8F0FE;\n",
              "      --fill-color: #1967D2;\n",
              "      --hover-bg-color: #E2EBFA;\n",
              "      --hover-fill-color: #174EA6;\n",
              "      --disabled-fill-color: #AAA;\n",
              "      --disabled-bg-color: #DDD;\n",
              "  }\n",
              "\n",
              "  [theme=dark] .colab-df-quickchart {\n",
              "      --bg-color: #3B4455;\n",
              "      --fill-color: #D2E3FC;\n",
              "      --hover-bg-color: #434B5C;\n",
              "      --hover-fill-color: #FFFFFF;\n",
              "      --disabled-bg-color: #3B4455;\n",
              "      --disabled-fill-color: #666;\n",
              "  }\n",
              "\n",
              "  .colab-df-quickchart {\n",
              "    background-color: var(--bg-color);\n",
              "    border: none;\n",
              "    border-radius: 50%;\n",
              "    cursor: pointer;\n",
              "    display: none;\n",
              "    fill: var(--fill-color);\n",
              "    height: 32px;\n",
              "    padding: 0;\n",
              "    width: 32px;\n",
              "  }\n",
              "\n",
              "  .colab-df-quickchart:hover {\n",
              "    background-color: var(--hover-bg-color);\n",
              "    box-shadow: 0 1px 2px rgba(60, 64, 67, 0.3), 0 1px 3px 1px rgba(60, 64, 67, 0.15);\n",
              "    fill: var(--button-hover-fill-color);\n",
              "  }\n",
              "\n",
              "  .colab-df-quickchart-complete:disabled,\n",
              "  .colab-df-quickchart-complete:disabled:hover {\n",
              "    background-color: var(--disabled-bg-color);\n",
              "    fill: var(--disabled-fill-color);\n",
              "    box-shadow: none;\n",
              "  }\n",
              "\n",
              "  .colab-df-spinner {\n",
              "    border: 2px solid var(--fill-color);\n",
              "    border-color: transparent;\n",
              "    border-bottom-color: var(--fill-color);\n",
              "    animation:\n",
              "      spin 1s steps(1) infinite;\n",
              "  }\n",
              "\n",
              "  @keyframes spin {\n",
              "    0% {\n",
              "      border-color: transparent;\n",
              "      border-bottom-color: var(--fill-color);\n",
              "      border-left-color: var(--fill-color);\n",
              "    }\n",
              "    20% {\n",
              "      border-color: transparent;\n",
              "      border-left-color: var(--fill-color);\n",
              "      border-top-color: var(--fill-color);\n",
              "    }\n",
              "    30% {\n",
              "      border-color: transparent;\n",
              "      border-left-color: var(--fill-color);\n",
              "      border-top-color: var(--fill-color);\n",
              "      border-right-color: var(--fill-color);\n",
              "    }\n",
              "    40% {\n",
              "      border-color: transparent;\n",
              "      border-right-color: var(--fill-color);\n",
              "      border-top-color: var(--fill-color);\n",
              "    }\n",
              "    60% {\n",
              "      border-color: transparent;\n",
              "      border-right-color: var(--fill-color);\n",
              "    }\n",
              "    80% {\n",
              "      border-color: transparent;\n",
              "      border-right-color: var(--fill-color);\n",
              "      border-bottom-color: var(--fill-color);\n",
              "    }\n",
              "    90% {\n",
              "      border-color: transparent;\n",
              "      border-bottom-color: var(--fill-color);\n",
              "    }\n",
              "  }\n",
              "</style>\n",
              "\n",
              "  <script>\n",
              "    async function quickchart(key) {\n",
              "      const quickchartButtonEl =\n",
              "        document.querySelector('#' + key + ' button');\n",
              "      quickchartButtonEl.disabled = true;  // To prevent multiple clicks.\n",
              "      quickchartButtonEl.classList.add('colab-df-spinner');\n",
              "      try {\n",
              "        const charts = await google.colab.kernel.invokeFunction(\n",
              "            'suggestCharts', [key], {});\n",
              "      } catch (error) {\n",
              "        console.error('Error during call to suggestCharts:', error);\n",
              "      }\n",
              "      quickchartButtonEl.classList.remove('colab-df-spinner');\n",
              "      quickchartButtonEl.classList.add('colab-df-quickchart-complete');\n",
              "    }\n",
              "    (() => {\n",
              "      let quickchartButtonEl =\n",
              "        document.querySelector('#df-21aba1c8-04b0-417f-b9fe-4911f5cbc9e6 button');\n",
              "      quickchartButtonEl.style.display =\n",
              "        google.colab.kernel.accessAllowed ? 'block' : 'none';\n",
              "    })();\n",
              "  </script>\n",
              "</div>\n",
              "\n",
              "  <div id=\"id_c7051442-c2ef-4009-aab5-195701c6b4fa\">\n",
              "    <style>\n",
              "      .colab-df-generate {\n",
              "        background-color: #E8F0FE;\n",
              "        border: none;\n",
              "        border-radius: 50%;\n",
              "        cursor: pointer;\n",
              "        display: none;\n",
              "        fill: #1967D2;\n",
              "        height: 32px;\n",
              "        padding: 0 0 0 0;\n",
              "        width: 32px;\n",
              "      }\n",
              "\n",
              "      .colab-df-generate:hover {\n",
              "        background-color: #E2EBFA;\n",
              "        box-shadow: 0px 1px 2px rgba(60, 64, 67, 0.3), 0px 1px 3px 1px rgba(60, 64, 67, 0.15);\n",
              "        fill: #174EA6;\n",
              "      }\n",
              "\n",
              "      [theme=dark] .colab-df-generate {\n",
              "        background-color: #3B4455;\n",
              "        fill: #D2E3FC;\n",
              "      }\n",
              "\n",
              "      [theme=dark] .colab-df-generate:hover {\n",
              "        background-color: #434B5C;\n",
              "        box-shadow: 0px 1px 3px 1px rgba(0, 0, 0, 0.15);\n",
              "        filter: drop-shadow(0px 1px 2px rgba(0, 0, 0, 0.3));\n",
              "        fill: #FFFFFF;\n",
              "      }\n",
              "    </style>\n",
              "    <button class=\"colab-df-generate\" onclick=\"generateWithVariable('df')\"\n",
              "            title=\"Generate code using this dataframe.\"\n",
              "            style=\"display:none;\">\n",
              "\n",
              "  <svg xmlns=\"http://www.w3.org/2000/svg\" height=\"24px\"viewBox=\"0 0 24 24\"\n",
              "       width=\"24px\">\n",
              "    <path d=\"M7,19H8.4L18.45,9,17,7.55,7,17.6ZM5,21V16.75L18.45,3.32a2,2,0,0,1,2.83,0l1.4,1.43a1.91,1.91,0,0,1,.58,1.4,1.91,1.91,0,0,1-.58,1.4L9.25,21ZM18.45,9,17,7.55Zm-12,3A5.31,5.31,0,0,0,4.9,8.1,5.31,5.31,0,0,0,1,6.5,5.31,5.31,0,0,0,4.9,4.9,5.31,5.31,0,0,0,6.5,1,5.31,5.31,0,0,0,8.1,4.9,5.31,5.31,0,0,0,12,6.5,5.46,5.46,0,0,0,6.5,12Z\"/>\n",
              "  </svg>\n",
              "    </button>\n",
              "    <script>\n",
              "      (() => {\n",
              "      const buttonEl =\n",
              "        document.querySelector('#id_c7051442-c2ef-4009-aab5-195701c6b4fa button.colab-df-generate');\n",
              "      buttonEl.style.display =\n",
              "        google.colab.kernel.accessAllowed ? 'block' : 'none';\n",
              "\n",
              "      buttonEl.onclick = () => {\n",
              "        google.colab.notebook.generateWithVariable('df');\n",
              "      }\n",
              "      })();\n",
              "    </script>\n",
              "  </div>\n",
              "\n",
              "    </div>\n",
              "  </div>\n"
            ],
            "application/vnd.google.colaboratory.intrinsic+json": {
              "type": "dataframe",
              "variable_name": "df",
              "summary": "{\n  \"name\": \"df\",\n  \"rows\": 6400,\n  \"fields\": [\n    {\n      \"column\": \"image\",\n      \"properties\": {\n        \"dtype\": \"string\",\n        \"num_unique_values\": 6400,\n        \"samples\": [\n          \"/content/Alzheimer_s Dataset/train/VeryMildDemented/verymildDem1653.jpg\",\n          \"/content/Alzheimer_s Dataset/train/VeryMildDemented/verymildDem333.jpg\",\n          \"/content/Alzheimer_s Dataset/train/NonDemented/nonDem2467.jpg\"\n        ],\n        \"semantic_type\": \"\",\n        \"description\": \"\"\n      }\n    },\n    {\n      \"column\": \"class\",\n      \"properties\": {\n        \"dtype\": \"category\",\n        \"num_unique_values\": 4,\n        \"samples\": [\n          \"NonDemented\",\n          \"ModerateDemented\",\n          \"VeryMildDemented\"\n        ],\n        \"semantic_type\": \"\",\n        \"description\": \"\"\n      }\n    }\n  ]\n}"
            }
          },
          "metadata": {},
          "execution_count": 2
        }
      ]
    },
    {
      "cell_type": "markdown",
      "source": [
        "Images Info"
      ],
      "metadata": {
        "id": "I8A8bpglY1u8"
      }
    },
    {
      "source": [
        "img = cv2.imread(images[6390])\n",
        "img.shape\n",
        "#print(img)"
      ],
      "cell_type": "code",
      "execution_count": null,
      "outputs": [
        {
          "output_type": "execute_result",
          "data": {
            "text/plain": [
              "(208, 176, 3)"
            ]
          },
          "metadata": {},
          "execution_count": 3
        }
      ],
      "metadata": {
        "colab": {
          "base_uri": "https://localhost:8080/"
        },
        "id": "UnBvax_jQI0l",
        "outputId": "5aed47cd-1686-4296-c214-bd3e9036255e"
      }
    },
    {
      "cell_type": "code",
      "source": [
        "img = cv2.imread(images[2003])\n",
        "img.shape"
      ],
      "metadata": {
        "colab": {
          "base_uri": "https://localhost:8080/"
        },
        "id": "Erarb0JXUnvt",
        "outputId": "8466c269-f63f-44d6-b4c8-13e1c7f48a23"
      },
      "execution_count": null,
      "outputs": [
        {
          "output_type": "execute_result",
          "data": {
            "text/plain": [
              "(208, 176, 3)"
            ]
          },
          "metadata": {},
          "execution_count": 4
        }
      ]
    },
    {
      "cell_type": "markdown",
      "source": [
        "# Images in train data"
      ],
      "metadata": {
        "id": "T93m2V-sVDhV"
      }
    },
    {
      "cell_type": "code",
      "source": [
        "train_folder = '/content/Alzheimer_s Dataset/train'\n",
        "class_names_train_folder = os.listdir(train_folder)\n",
        "class_count = []\n",
        "\n",
        "for class_name in class_names_train_folder:\n",
        "  num_images = len(os.listdir(os.path.join(train_folder, class_name)))\n",
        "  class_count.append(num_images)\n",
        "  print(f\"Class {class_name}: {num_images} images\")\n"
      ],
      "metadata": {
        "id": "iniRBG6wVCwo",
        "outputId": "60cabc8e-0a12-453e-c82e-e8cc450e3374",
        "colab": {
          "base_uri": "https://localhost:8080/"
        }
      },
      "execution_count": 23,
      "outputs": [
        {
          "output_type": "stream",
          "name": "stdout",
          "text": [
            "Class VeryMildDemented: 1792 images\n",
            "Class NonDemented: 2560 images\n",
            "Class MildDemented: 717 images\n",
            "Class ModerateDemented: 52 images\n"
          ]
        }
      ]
    },
    {
      "cell_type": "code",
      "source": [
        "\n",
        "plt.figure(figsize=(10, 6))\n",
        "plt.bar(class_names_train_folder, class_count)\n",
        "\n",
        "plt.title('The Number Of Images In Train folder For Each Class', fontsize=20)\n",
        "plt.xlabel(\"Class\", fontsize = 20)\n",
        "plt.ylabel(\"Number of Images\", fontsize=20)\n",
        "plt.xticks(rotation=45)\n",
        "\n",
        "plt.show()\n"
      ],
      "metadata": {
        "colab": {
          "base_uri": "https://localhost:8080/",
          "height": 700
        },
        "id": "BY581UoIQ8xG",
        "outputId": "a7308a29-022c-49a6-e8ab-432b3f689477"
      },
      "execution_count": 26,
      "outputs": [
        {
          "output_type": "display_data",
          "data": {
            "text/plain": [
              "<Figure size 1000x600 with 1 Axes>"
            ],
            "image/png": "[encoded data removed]"
          },
          "metadata": {}
        }
      ]
    },
    {
      "cell_type": "markdown",
      "source": [
        "Oversampling data"
      ],
      "metadata": {
        "id": "KyDr19K-YQ5a"
      }
    },
    {
      "cell_type": "code",
      "source": [
        "rotation = 45\n",
        "inputSize = (180,180,3)\n",
        "\n",
        "Image_gen = ImageDataGenerator(\n",
        "    rescale = 1/255,\n",
        "    rotation_range= rotation,   #Rotate images by up to 45 degrees\n",
        "    horizontal_flip=True,  #Flip images horizontally with 50% chance\n",
        "    fill_mode='nearest'  #How to fill missing pixels during transformations\n",
        ")"
      ],
      "metadata": {
        "id": "dGzWzOkodgPg"
      },
      "execution_count": 59,
      "outputs": []
    },
    {
      "cell_type": "code",
      "source": [
        "batch_size = 30\n",
        "train_image_generator = Image_gen.flow_from_directory('Alzheimer_s Dataset/train',\n",
        "                                                            target_size=inputSize[:2],\n",
        "                                                            batch_size= batch_size,\n",
        "                                                            class_mode='categorical')"
      ],
      "metadata": {
        "id": "FejiN8wHh0C8",
        "outputId": "81216df7-2158-49f3-d020-9ce5f2742ff3",
        "colab": {
          "base_uri": "https://localhost:8080/"
        }
      },
      "execution_count": 60,
      "outputs": [
        {
          "output_type": "stream",
          "name": "stdout",
          "text": [
            "Found 5121 images belonging to 4 classes.\n"
          ]
        }
      ]
    },
    {
      "cell_type": "code",
      "source": [
        "batch_size = 30\n",
        "test_image_generator = Image_gen.flow_from_directory('Alzheimer_s Dataset/test',\n",
        "                                                            target_size=inputSize[:2],\n",
        "                                                            batch_size= batch_size,\n",
        "                                                            class_mode='categorical')"
      ],
      "metadata": {
        "id": "o1_TAzscjsqO",
        "outputId": "9f74b4bf-c19f-420c-adce-49bb37ed5760",
        "colab": {
          "base_uri": "https://localhost:8080/"
        }
      },
      "execution_count": 61,
      "outputs": [
        {
          "output_type": "stream",
          "name": "stdout",
          "text": [
            "Found 1279 images belonging to 4 classes.\n"
          ]
        }
      ]
    },
    {
      "cell_type": "code",
      "source": [
        "train_image_generator.class_indices\n"
      ],
      "metadata": {
        "id": "IWSE3sIwl4oU",
        "outputId": "c270a672-e4a3-47da-a134-fd7005a17c9e",
        "colab": {
          "base_uri": "https://localhost:8080/"
        }
      },
      "execution_count": 62,
      "outputs": [
        {
          "output_type": "execute_result",
          "data": {
            "text/plain": [
              "{'MildDemented': 0,\n",
              " 'ModerateDemented': 1,\n",
              " 'NonDemented': 2,\n",
              " 'VeryMildDemented': 3}"
            ]
          },
          "metadata": {},
          "execution_count": 62
        }
      ]
    },
    {
      "cell_type": "markdown",
      "source": [
        "# count the number of generated images"
      ],
      "metadata": {
        "id": "-QQY2WEPndbF"
      }
    },
    {
      "cell_type": "code",
      "source": [],
      "metadata": {
        "id": "jiiVZ3qznWWt"
      },
      "execution_count": null,
      "outputs": []
    },
    {
      "cell_type": "markdown",
      "source": [
        "# **Build model**"
      ],
      "metadata": {
        "id": "3sVIVeam7dQ7"
      }
    },
    {
      "cell_type": "code",
      "source": [
        "# CNN model\n",
        "model = Sequential()\n",
        "inputSize = (180,180,3)\n",
        "\n",
        "#ilters=32, kernel_size=(4,4), input_shape=(28,28,1), activation='relu')\n",
        "model.add(Conv2D(filters = 32, kernel_size=(3,3), input_shape=inputSize, activation='relu'))\n",
        "model.add(MaxPool2D(pool_size=(2,2)))\n",
        "\n",
        "model.add(Conv2D(filters = 32, kernel_size=(3,3), input_shape=inputSize, activation='relu'))\n",
        "model.add(MaxPool2D(pool_size=(2,2)))\n",
        "\n",
        "model.add(Conv2D(filters = 32, kernel_size=(3,3), input_shape=inputSize, activation='relu'))\n",
        "model.add(MaxPool2D(pool_size=(2,2)))\n",
        "\n",
        "model.add(Flatten())\n",
        "\n",
        "model.add(Dense(1024, activation='relu'))\n",
        "model.add(Dropout(0.2))\n",
        "\n",
        "model.add(Dense(4, activation = 'softmax'))\n",
        "model.compile(loss = 'categorical_crossentropy',\n",
        "              optimizer = 'adam',\n",
        "              metrics = ['accuracy'])"
      ],
      "metadata": {
        "id": "qyfIQ8gr7QZV"
      },
      "execution_count": null,
      "outputs": []
    },
    {
      "cell_type": "code",
      "source": [
        "model.summary()"
      ],
      "metadata": {
        "colab": {
          "base_uri": "https://localhost:8080/"
        },
        "id": "p-KxKdTWBtpn",
        "outputId": "473e2ee4-aa11-4039-8bcf-0392ecf3bf14"
      },
      "execution_count": null,
      "outputs": [
        {
          "output_type": "stream",
          "name": "stdout",
          "text": [
            "Model: \"sequential\"\n",
            "_________________________________________________________________\n",
            " Layer (type)                Output Shape              Param #   \n",
            "=================================================================\n",
            " conv2d (Conv2D)             (None, 178, 178, 32)      896       \n",
            "                                                                 \n",
            " max_pooling2d (MaxPooling2  (None, 89, 89, 32)        0         \n",
            " D)                                                              \n",
            "                                                                 \n",
            " conv2d_1 (Conv2D)           (None, 87, 87, 32)        9248      \n",
            "                                                                 \n",
            " max_pooling2d_1 (MaxPoolin  (None, 43, 43, 32)        0         \n",
            " g2D)                                                            \n",
            "                                                                 \n",
            " conv2d_2 (Conv2D)           (None, 41, 41, 32)        9248      \n",
            "                                                                 \n",
            " max_pooling2d_2 (MaxPoolin  (None, 20, 20, 32)        0         \n",
            " g2D)                                                            \n",
            "                                                                 \n",
            " flatten (Flatten)           (None, 12800)             0         \n",
            "                                                                 \n",
            " dense (Dense)               (None, 1024)              13108224  \n",
            "                                                                 \n",
            " dropout (Dropout)           (None, 1024)              0         \n",
            "                                                                 \n",
            " dense_1 (Dense)             (None, 4)                 4100      \n",
            "                                                                 \n",
            "=================================================================\n",
            "Total params: 13131716 (50.09 MB)\n",
            "Trainable params: 13131716 (50.09 MB)\n",
            "Non-trainable params: 0 (0.00 Byte)\n",
            "_________________________________________________________________\n"
          ]
        }
      ]
    },
    {
      "cell_type": "code",
      "source": [
        "results = model.fit(train_image_generator, epochs=100, validation_data=test_image_generator)"
      ],
      "metadata": {
        "colab": {
          "base_uri": "https://localhost:8080/"
        },
        "id": "dIYSHz2HEwZ3",
        "outputId": "f216a8c4-bc19-4f0c-ccc2-e87eddca32cb"
      },
      "execution_count": null,
      "outputs": [
        {
          "output_type": "stream",
          "name": "stdout",
          "text": [
            "Epoch 1/100\n",
            "171/171 [==============================] - 267s 2s/step - loss: 0.9261 - accuracy: 0.5620 - val_loss: 0.9443 - val_accuracy: 0.5880\n",
            "Epoch 2/100\n",
            "171/171 [==============================] - 263s 2s/step - loss: 0.5668 - accuracy: 0.7600 - val_loss: 0.9968 - val_accuracy: 0.5919\n",
            "Epoch 3/100\n",
            "171/171 [==============================] - 263s 2s/step - loss: 0.2544 - accuracy: 0.9063 - val_loss: 1.2979 - val_accuracy: 0.5950\n",
            "Epoch 4/100\n",
            "171/171 [==============================] - 261s 2s/step - loss: 0.1146 - accuracy: 0.9588 - val_loss: 1.3939 - val_accuracy: 0.5942\n",
            "Epoch 5/100\n",
            "171/171 [==============================] - 254s 1s/step - loss: 0.0532 - accuracy: 0.9826 - val_loss: 1.4524 - val_accuracy: 0.6106\n",
            "Epoch 6/100\n",
            "171/171 [==============================] - 270s 2s/step - loss: 0.0278 - accuracy: 0.9912 - val_loss: 1.7476 - val_accuracy: 0.5489\n",
            "Epoch 7/100\n",
            "171/171 [==============================] - 256s 1s/step - loss: 0.0365 - accuracy: 0.9873 - val_loss: 2.1342 - val_accuracy: 0.6177\n",
            "Epoch 8/100\n",
            "171/171 [==============================] - 273s 2s/step - loss: 0.0242 - accuracy: 0.9916 - val_loss: 2.1716 - val_accuracy: 0.6364\n",
            "Epoch 9/100\n",
            "171/171 [==============================] - 263s 2s/step - loss: 0.0165 - accuracy: 0.9936 - val_loss: 2.3692 - val_accuracy: 0.6200\n",
            "Epoch 10/100\n",
            "171/171 [==============================] - 273s 2s/step - loss: 0.0124 - accuracy: 0.9947 - val_loss: 2.3972 - val_accuracy: 0.6302\n",
            "Epoch 11/100\n",
            "171/171 [==============================] - 256s 1s/step - loss: 0.0283 - accuracy: 0.9881 - val_loss: 1.6155 - val_accuracy: 0.6357\n",
            "Epoch 12/100\n",
            "171/171 [==============================] - 275s 2s/step - loss: 0.0236 - accuracy: 0.9912 - val_loss: 2.6452 - val_accuracy: 0.6325\n",
            "Epoch 13/100\n",
            "171/171 [==============================] - 264s 2s/step - loss: 0.0246 - accuracy: 0.9920 - val_loss: 2.3456 - val_accuracy: 0.6145\n",
            "Epoch 14/100\n",
            "171/171 [==============================] - 275s 2s/step - loss: 0.0283 - accuracy: 0.9904 - val_loss: 2.2770 - val_accuracy: 0.6177\n",
            "Epoch 15/100\n",
            "171/171 [==============================] - 259s 2s/step - loss: 0.0120 - accuracy: 0.9961 - val_loss: 2.2244 - val_accuracy: 0.6458\n",
            "Epoch 16/100\n",
            "171/171 [==============================] - 267s 2s/step - loss: 0.0013 - accuracy: 1.0000 - val_loss: 2.0309 - val_accuracy: 0.6646\n",
            "Epoch 17/100\n",
            "171/171 [==============================] - 264s 2s/step - loss: 0.0031 - accuracy: 0.9992 - val_loss: 2.3160 - val_accuracy: 0.6677\n",
            "Epoch 18/100\n",
            "171/171 [==============================] - 261s 2s/step - loss: 0.0251 - accuracy: 0.9904 - val_loss: 2.0004 - val_accuracy: 0.6325\n",
            "Epoch 19/100\n",
            "171/171 [==============================] - 259s 2s/step - loss: 0.0363 - accuracy: 0.9867 - val_loss: 2.3466 - val_accuracy: 0.6396\n",
            "Epoch 20/100\n",
            "171/171 [==============================] - 256s 1s/step - loss: 0.0296 - accuracy: 0.9906 - val_loss: 2.1594 - val_accuracy: 0.6388\n",
            "Epoch 21/100\n",
            "171/171 [==============================] - 254s 1s/step - loss: 0.0053 - accuracy: 0.9982 - val_loss: 2.8179 - val_accuracy: 0.6474\n",
            "Epoch 22/100\n",
            "171/171 [==============================] - 259s 2s/step - loss: 6.8948e-04 - accuracy: 1.0000 - val_loss: 2.6563 - val_accuracy: 0.6638\n",
            "Epoch 23/100\n",
            "171/171 [==============================] - 254s 1s/step - loss: 1.8758e-04 - accuracy: 1.0000 - val_loss: 2.7284 - val_accuracy: 0.6622\n",
            "Epoch 24/100\n",
            "171/171 [==============================] - 259s 2s/step - loss: 5.2681e-05 - accuracy: 1.0000 - val_loss: 2.8111 - val_accuracy: 0.6615\n",
            "Epoch 25/100\n",
            "171/171 [==============================] - 256s 2s/step - loss: 3.5505e-05 - accuracy: 1.0000 - val_loss: 2.9233 - val_accuracy: 0.6599\n",
            "Epoch 26/100\n",
            "171/171 [==============================] - 266s 2s/step - loss: 2.5175e-05 - accuracy: 1.0000 - val_loss: 2.9319 - val_accuracy: 0.6607\n",
            "Epoch 27/100\n",
            "171/171 [==============================] - 257s 2s/step - loss: 1.7682e-05 - accuracy: 1.0000 - val_loss: 2.9462 - val_accuracy: 0.6622\n",
            "Epoch 28/100\n",
            "171/171 [==============================] - 271s 2s/step - loss: 0.0067 - accuracy: 0.9984 - val_loss: 3.0876 - val_accuracy: 0.6106\n",
            "Epoch 29/100\n",
            "171/171 [==============================] - 258s 2s/step - loss: 0.0833 - accuracy: 0.9719 - val_loss: 1.5397 - val_accuracy: 0.6732\n",
            "Epoch 30/100\n",
            "171/171 [==============================] - 266s 2s/step - loss: 0.0070 - accuracy: 0.9975 - val_loss: 3.1659 - val_accuracy: 0.6067\n",
            "Epoch 31/100\n",
            "171/171 [==============================] - 257s 1s/step - loss: 0.0015 - accuracy: 1.0000 - val_loss: 2.0629 - val_accuracy: 0.6818\n",
            "Epoch 32/100\n",
            "171/171 [==============================] - 262s 2s/step - loss: 3.9220e-04 - accuracy: 1.0000 - val_loss: 2.4482 - val_accuracy: 0.6677\n",
            "Epoch 33/100\n",
            "171/171 [==============================] - 250s 1s/step - loss: 0.0068 - accuracy: 0.9980 - val_loss: 2.3857 - val_accuracy: 0.6161\n",
            "Epoch 34/100\n",
            "171/171 [==============================] - 266s 2s/step - loss: 0.0304 - accuracy: 0.9906 - val_loss: 3.0894 - val_accuracy: 0.6145\n",
            "Epoch 35/100\n",
            "171/171 [==============================] - 255s 1s/step - loss: 0.0027 - accuracy: 0.9988 - val_loss: 2.4938 - val_accuracy: 0.6607\n",
            "Epoch 36/100\n",
            "171/171 [==============================] - 251s 1s/step - loss: 1.3372e-04 - accuracy: 1.0000 - val_loss: 2.6263 - val_accuracy: 0.6599\n",
            "Epoch 37/100\n",
            "171/171 [==============================] - 267s 2s/step - loss: 1.3586e-04 - accuracy: 1.0000 - val_loss: 2.8274 - val_accuracy: 0.6544\n",
            "Epoch 38/100\n",
            "171/171 [==============================] - 251s 1s/step - loss: 3.9021e-05 - accuracy: 1.0000 - val_loss: 2.8707 - val_accuracy: 0.6599\n",
            "Epoch 39/100\n",
            "171/171 [==============================] - 265s 2s/step - loss: 1.8323e-04 - accuracy: 1.0000 - val_loss: 2.9668 - val_accuracy: 0.6583\n",
            "Epoch 40/100\n",
            "171/171 [==============================] - 254s 1s/step - loss: 4.6731e-05 - accuracy: 1.0000 - val_loss: 2.9817 - val_accuracy: 0.6638\n",
            "Epoch 41/100\n",
            "171/171 [==============================] - 263s 2s/step - loss: 1.9397e-05 - accuracy: 1.0000 - val_loss: 3.0241 - val_accuracy: 0.6638\n",
            "Epoch 42/100\n",
            "171/171 [==============================] - 255s 1s/step - loss: 1.2438e-05 - accuracy: 1.0000 - val_loss: 3.0104 - val_accuracy: 0.6638\n",
            "Epoch 43/100\n",
            "171/171 [==============================] - 261s 2s/step - loss: 1.2973e-05 - accuracy: 1.0000 - val_loss: 3.0634 - val_accuracy: 0.6630\n",
            "Epoch 44/100\n",
            "171/171 [==============================] - 258s 2s/step - loss: 4.8605e-05 - accuracy: 1.0000 - val_loss: 3.0011 - val_accuracy: 0.6732\n",
            "Epoch 45/100\n",
            "171/171 [==============================] - 251s 1s/step - loss: 1.3044e-05 - accuracy: 1.0000 - val_loss: 3.1451 - val_accuracy: 0.6654\n",
            "Epoch 46/100\n",
            "171/171 [==============================] - 265s 2s/step - loss: 6.3213e-06 - accuracy: 1.0000 - val_loss: 3.2213 - val_accuracy: 0.6661\n",
            "Epoch 47/100\n",
            "171/171 [==============================] - 254s 1s/step - loss: 5.3004e-06 - accuracy: 1.0000 - val_loss: 3.2664 - val_accuracy: 0.6654\n",
            "Epoch 48/100\n",
            "171/171 [==============================] - 261s 2s/step - loss: 6.2605e-06 - accuracy: 1.0000 - val_loss: 3.2656 - val_accuracy: 0.6661\n",
            "Epoch 49/100\n",
            "171/171 [==============================] - 252s 1s/step - loss: 3.1150e-05 - accuracy: 1.0000 - val_loss: 3.0053 - val_accuracy: 0.6661\n",
            "Epoch 50/100\n",
            "171/171 [==============================] - 257s 2s/step - loss: 1.1359e-05 - accuracy: 1.0000 - val_loss: 3.3182 - val_accuracy: 0.6607\n",
            "Epoch 51/100\n",
            "171/171 [==============================] - 253s 1s/step - loss: 1.1738e-05 - accuracy: 1.0000 - val_loss: 3.3634 - val_accuracy: 0.6607\n",
            "Epoch 52/100\n",
            "171/171 [==============================] - 252s 1s/step - loss: 3.5339e-06 - accuracy: 1.0000 - val_loss: 3.3892 - val_accuracy: 0.6630\n",
            "Epoch 53/100\n",
            "171/171 [==============================] - 256s 2s/step - loss: 5.3136e-06 - accuracy: 1.0000 - val_loss: 3.3231 - val_accuracy: 0.6701\n",
            "Epoch 54/100\n",
            "171/171 [==============================] - 246s 1s/step - loss: 2.0877e-06 - accuracy: 1.0000 - val_loss: 3.3623 - val_accuracy: 0.6693\n",
            "Epoch 55/100\n",
            "171/171 [==============================] - 257s 2s/step - loss: 1.8493e-06 - accuracy: 1.0000 - val_loss: 3.3959 - val_accuracy: 0.6693\n",
            "Epoch 56/100\n",
            "171/171 [==============================] - 251s 1s/step - loss: 3.9574e-06 - accuracy: 1.0000 - val_loss: 3.2777 - val_accuracy: 0.6732\n",
            "Epoch 57/100\n",
            "171/171 [==============================] - 248s 1s/step - loss: 2.6655e-06 - accuracy: 1.0000 - val_loss: 3.2885 - val_accuracy: 0.6716\n",
            "Epoch 58/100\n",
            "171/171 [==============================] - 259s 2s/step - loss: 1.7118e-06 - accuracy: 1.0000 - val_loss: 3.3802 - val_accuracy: 0.6724\n",
            "Epoch 59/100\n",
            "171/171 [==============================] - 249s 1s/step - loss: 1.2327e-06 - accuracy: 1.0000 - val_loss: 3.4219 - val_accuracy: 0.6677\n",
            "Epoch 60/100\n",
            "171/171 [==============================] - 250s 1s/step - loss: 2.5204e-06 - accuracy: 1.0000 - val_loss: 3.5419 - val_accuracy: 0.6661\n",
            "Epoch 61/100\n",
            "171/171 [==============================] - 248s 1s/step - loss: 1.8694e-06 - accuracy: 1.0000 - val_loss: 3.4854 - val_accuracy: 0.6669\n",
            "Epoch 62/100\n",
            "171/171 [==============================] - 251s 1s/step - loss: 2.3061e-06 - accuracy: 1.0000 - val_loss: 3.6038 - val_accuracy: 0.6669\n",
            "Epoch 63/100\n",
            "171/171 [==============================] - 248s 1s/step - loss: 8.3209e-07 - accuracy: 1.0000 - val_loss: 3.6237 - val_accuracy: 0.6654\n",
            "Epoch 64/100\n",
            "171/171 [==============================] - 251s 1s/step - loss: 1.3598e-06 - accuracy: 1.0000 - val_loss: 3.4744 - val_accuracy: 0.6708\n",
            "Epoch 65/100\n",
            "171/171 [==============================] - 254s 1s/step - loss: 2.4264e-06 - accuracy: 1.0000 - val_loss: 3.6884 - val_accuracy: 0.6615\n",
            "Epoch 66/100\n",
            "171/171 [==============================] - 250s 1s/step - loss: 1.3602e-06 - accuracy: 1.0000 - val_loss: 3.7363 - val_accuracy: 0.6599\n",
            "Epoch 67/100\n",
            "171/171 [==============================] - 252s 1s/step - loss: 3.1141e-06 - accuracy: 1.0000 - val_loss: 3.5858 - val_accuracy: 0.6724\n",
            "Epoch 68/100\n",
            "171/171 [==============================] - 251s 1s/step - loss: 0.1021 - accuracy: 0.9676 - val_loss: 1.8961 - val_accuracy: 0.6255\n",
            "Epoch 69/100\n",
            "171/171 [==============================] - 250s 1s/step - loss: 0.0565 - accuracy: 0.9797 - val_loss: 2.4703 - val_accuracy: 0.6591\n",
            "Epoch 70/100\n",
            "171/171 [==============================] - 248s 1s/step - loss: 0.0081 - accuracy: 0.9971 - val_loss: 3.6702 - val_accuracy: 0.6005\n",
            "Epoch 71/100\n",
            "171/171 [==============================] - 244s 1s/step - loss: 0.0035 - accuracy: 0.9984 - val_loss: 2.3468 - val_accuracy: 0.6935\n",
            "Epoch 72/100\n",
            "171/171 [==============================] - 244s 1s/step - loss: 6.8765e-04 - accuracy: 0.9998 - val_loss: 2.5597 - val_accuracy: 0.6810\n",
            "Epoch 73/100\n",
            "171/171 [==============================] - 251s 1s/step - loss: 2.8658e-04 - accuracy: 1.0000 - val_loss: 2.7562 - val_accuracy: 0.6818\n",
            "Epoch 74/100\n",
            "171/171 [==============================] - 250s 1s/step - loss: 3.8692e-04 - accuracy: 1.0000 - val_loss: 3.0128 - val_accuracy: 0.6701\n",
            "Epoch 75/100\n",
            " 18/171 [==>...........................] - ETA: 3:30 - loss: 4.1864e-04 - accuracy: 1.0000"
          ]
        }
      ]
    },
    {
      "cell_type": "code",
      "source": [],
      "metadata": {
        "id": "PAPdI8YsHE63"
      },
      "execution_count": null,
      "outputs": []
    }
  ]
}