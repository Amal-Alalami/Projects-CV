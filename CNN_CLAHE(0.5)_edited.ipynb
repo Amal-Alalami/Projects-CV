{
  "nbformat": 4,
  "nbformat_minor": 0,
  "metadata": {
    "colab": {
      "provenance": [],
      "authorship_tag": "ABX9TyNge1VUKyn3Fr91My3/z35h",
      "include_colab_link": true
    },
    "kernelspec": {
      "name": "python3",
      "display_name": "Python 3"
    },
    "language_info": {
      "name": "python"
    }
  },
  "cells": [
    {
      "cell_type": "markdown",
      "metadata": {
        "id": "view-in-github",
        "colab_type": "text"
      },
      "source": [
        "<a href=\"https://colab.research.google.com/github/Amal-Alalami/Projects-CV/blob/main/CNN_CLAHE(0.5)_edited.ipynb\" target=\"_parent\"><img src=\"https://colab.research.google.com/assets/colab-badge.svg\" alt=\"Open In Colab\"/></a>"
      ]
    },
    {
      "cell_type": "code",
      "execution_count": 1,
      "metadata": {
        "id": "NFtM0zcbyU8U"
      },
      "outputs": [],
      "source": [
        "import cv2\n",
        "import os\n",
        "import pandas as pd\n",
        "import seaborn as sns\n",
        "import tensorflow as tf\n",
        "import numpy as np\n",
        "\n",
        "import matplotlib.pyplot as plt\n",
        "from imblearn.over_sampling import SMOTE\n",
        "from google.colab.patches import cv2_imshow\n",
        "from sklearn.model_selection import train_test_split\n",
        "from sklearn.metrics import confusion_matrix\n",
        "from sklearn.metrics import classification_report\n",
        "\n",
        "# to generate data\n",
        "from keras.preprocessing.image import ImageDataGenerator\n",
        "\n",
        "# to build model\n",
        "from keras.models import Sequential\n",
        "from keras.layers import Dense,Conv2D,MaxPool2D,Flatten,Dropout\n",
        "%matplotlib inline"
      ]
    },
    {
      "cell_type": "markdown",
      "source": [
        "# Upload Dataset"
      ],
      "metadata": {
        "id": "UTGIyVtefqsg"
      }
    },
    {
      "cell_type": "code",
      "source": [
        "!7z x archive.zip\n"
      ],
      "metadata": {
        "colab": {
          "base_uri": "https://localhost:8080/"
        },
        "id": "jBCO88_7ycdk",
        "outputId": "899e0d54-b628-4426-9bec-2922e85425c5"
      },
      "execution_count": 2,
      "outputs": [
        {
          "output_type": "stream",
          "name": "stdout",
          "text": [
            "\n",
            "7-Zip [64] 16.02 : Copyright (c) 1999-2016 Igor Pavlov : 2016-05-21\n",
            "p7zip Version 16.02 (locale=en_US.UTF-8,Utf16=on,HugeFiles=on,64 bits,2 CPUs Intel(R) Xeon(R) CPU @ 2.20GHz (406F0),ASM,AES-NI)\n",
            "\n",
            "Scanning the drive for archives:\n",
            "  0M Scan\b\b\b\b\b\b\b\b\b         \b\b\b\b\b\b\b\b\b1 file, 35779075 bytes (35 MiB)\n",
            "\n",
            "Extracting archive: archive.zip\n",
            " 64% 4096 Open\b\b\b\b\b\b\b\b\b\b\b\b\b\b              \b\b\b\b\b\b\b\b\b\b\b\b\b\b--\n",
            "Path = archive.zip\n",
            "Type = zip\n",
            "Physical Size = 35779075\n",
            "\n",
            "  0%\b\b\b\b    \b\b\b\b  8% 579 - Alzheimer_s Dataset/test/NonDemented/30 (53).jpg\b\b\b\b\b\b\b\b\b\b\b\b\b\b\b\b\b\b\b\b\b\b\b\b\b\b\b\b\b\b\b\b\b\b\b\b\b\b\b\b\b\b\b\b\b\b\b\b\b\b\b\b\b\b\b\b\b\b\b                                                           \b\b\b\b\b\b\b\b\b\b\b\b\b\b\b\b\b\b\b\b\b\b\b\b\b\b\b\b\b\b\b\b\b\b\b\b\b\b\b\b\b\b\b\b\b\b\b\b\b\b\b\b\b\b\b\b\b\b\b 14% 979 - Alzheimer_s Dataset/test/VeryMildDemented/28 (56).jpg\b\b\b\b\b\b\b\b\b\b\b\b\b\b\b\b\b\b\b\b\b\b\b\b\b\b\b\b\b\b\b\b\b\b\b\b\b\b\b\b\b\b\b\b\b\b\b\b\b\b\b\b\b\b\b\b\b\b\b\b\b\b\b\b                                                                \b\b\b\b\b\b\b\b\b\b\b\b\b\b\b\b\b\b\b\b\b\b\b\b\b\b\b\b\b\b\b\b\b\b\b\b\b\b\b\b\b\b\b\b\b\b\b\b\b\b\b\b\b\b\b\b\b\b\b\b\b\b\b\b 22% 1506 - Alzheimer_s Dataset/train/MildDemented/mildDem302.jpg\b\b\b\b\b\b\b\b\b\b\b\b\b\b\b\b\b\b\b\b\b\b\b\b\b\b\b\b\b\b\b\b\b\b\b\b\b\b\b\b\b\b\b\b\b\b\b\b\b\b\b\b\b\b\b\b\b\b\b\b\b\b\b\b\b                                                                 \b\b\b\b\b\b\b\b\b\b\b\b\b\b\b\b\b\b\b\b\b\b\b\b\b\b\b\b\b\b\b\b\b\b\b\b\b\b\b\b\b\b\b\b\b\b\b\b\b\b\b\b\b\b\b\b\b\b\b\b\b\b\b\b\b 28% 1893 - Alzheimer_s Dataset/train/MildDemented/mildDem651.jpg\b\b\b\b\b\b\b\b\b\b\b\b\b\b\b\b\b\b\b\b\b\b\b\b\b\b\b\b\b\b\b\b\b\b\b\b\b\b\b\b\b\b\b\b\b\b\b\b\b\b\b\b\b\b\b\b\b\b\b\b\b\b\b\b\b                                                                 \b\b\b\b\b\b\b\b\b\b\b\b\b\b\b\b\b\b\b\b\b\b\b\b\b\b\b\b\b\b\b\b\b\b\b\b\b\b\b\b\b\b\b\b\b\b\b\b\b\b\b\b\b\b\b\b\b\b\b\b\b\b\b\b\b 36% 2370 - Alzheimer_s Dataset/train/NonDemented/nonDem1288.jpg\b\b\b\b\b\b\b\b\b\b\b\b\b\b\b\b\b\b\b\b\b\b\b\b\b\b\b\b\b\b\b\b\b\b\b\b\b\b\b\b\b\b\b\b\b\b\b\b\b\b\b\b\b\b\b\b\b\b\b\b\b\b\b\b                                                                \b\b\b\b\b\b\b\b\b\b\b\b\b\b\b\b\b\b\b\b\b\b\b\b\b\b\b\b\b\b\b\b\b\b\b\b\b\b\b\b\b\b\b\b\b\b\b\b\b\b\b\b\b\b\b\b\b\b\b\b\b\b\b\b 41% 2711 - Alzheimer_s Dataset/train/NonDemented/nonDem1595.jpg\b\b\b\b\b\b\b\b\b\b\b\b\b\b\b\b\b\b\b\b\b\b\b\b\b\b\b\b\b\b\b\b\b\b\b\b\b\b\b\b\b\b\b\b\b\b\b\b\b\b\b\b\b\b\b\b\b\b\b\b\b\b\b\b                                                                \b\b\b\b\b\b\b\b\b\b\b\b\b\b\b\b\b\b\b\b\b\b\b\b\b\b\b\b\b\b\b\b\b\b\b\b\b\b\b\b\b\b\b\b\b\b\b\b\b\b\b\b\b\b\b\b\b\b\b\b\b\b\b\b 45% 2931 - Alzheimer_s Dataset/train/NonDemented/nonDem1793.jpg\b\b\b\b\b\b\b\b\b\b\b\b\b\b\b\b\b\b\b\b\b\b\b\b\b\b\b\b\b\b\b\b\b\b\b\b\b\b\b\b\b\b\b\b\b\b\b\b\b\b\b\b\b\b\b\b\b\b\b\b\b\b\b\b                                                                \b\b\b\b\b\b\b\b\b\b\b\b\b\b\b\b\b\b\b\b\b\b\b\b\b\b\b\b\b\b\b\b\b\b\b\b\b\b\b\b\b\b\b\b\b\b\b\b\b\b\b\b\b\b\b\b\b\b\b\b\b\b\b\b 48% 3137 - Alzheimer_s Dataset/train/NonDemented/nonDem1979.jpg\b\b\b\b\b\b\b\b\b\b\b\b\b\b\b\b\b\b\b\b\b\b\b\b\b\b\b\b\b\b\b\b\b\b\b\b\b\b\b\b\b\b\b\b\b\b\b\b\b\b\b\b\b\b\b\b\b\b\b\b\b\b\b\b                                                                \b\b\b\b\b\b\b\b\b\b\b\b\b\b\b\b\b\b\b\b\b\b\b\b\b\b\b\b\b\b\b\b\b\b\b\b\b\b\b\b\b\b\b\b\b\b\b\b\b\b\b\b\b\b\b\b\b\b\b\b\b\b\b\b 50% 3296 - Alzheimer_s Dataset/train/NonDemented/nonDem2120.jpg\b\b\b\b\b\b\b\b\b\b\b\b\b\b\b\b\b\b\b\b\b\b\b\b\b\b\b\b\b\b\b\b\b\b\b\b\b\b\b\b\b\b\b\b\b\b\b\b\b\b\b\b\b\b\b\b\b\b\b\b\b\b\b\b                                                                \b\b\b\b\b\b\b\b\b\b\b\b\b\b\b\b\b\b\b\b\b\b\b\b\b\b\b\b\b\b\b\b\b\b\b\b\b\b\b\b\b\b\b\b\b\b\b\b\b\b\b\b\b\b\b\b\b\b\b\b\b\b\b\b 53% 3459 - Alzheimer_s Dataset/train/NonDemented/nonDem2268.jpg\b\b\b\b\b\b\b\b\b\b\b\b\b\b\b\b\b\b\b\b\b\b\b\b\b\b\b\b\b\b\b\b\b\b\b\b\b\b\b\b\b\b\b\b\b\b\b\b\b\b\b\b\b\b\b\b\b\b\b\b\b\b\b\b                                                                \b\b\b\b\b\b\b\b\b\b\b\b\b\b\b\b\b\b\b\b\b\b\b\b\b\b\b\b\b\b\b\b\b\b\b\b\b\b\b\b\b\b\b\b\b\b\b\b\b\b\b\b\b\b\b\b\b\b\b\b\b\b\b\b 55% 3601 - Alzheimer_s Dataset/train/NonDemented/nonDem2396.jpg\b\b\b\b\b\b\b\b\b\b\b\b\b\b\b\b\b\b\b\b\b\b\b\b\b\b\b\b\b\b\b\b\b\b\b\b\b\b\b\b\b\b\b\b\b\b\b\b\b\b\b\b\b\b\b\b\b\b\b\b\b\b\b\b                                                                \b\b\b\b\b\b\b\b\b\b\b\b\b\b\b\b\b\b\b\b\b\b\b\b\b\b\b\b\b\b\b\b\b\b\b\b\b\b\b\b\b\b\b\b\b\b\b\b\b\b\b\b\b\b\b\b\b\b\b\b\b\b\b\b 57% 3745 - Alzheimer_s Dataset/train/NonDemented/nonDem2525.jpg\b\b\b\b\b\b\b\b\b\b\b\b\b\b\b\b\b\b\b\b\b\b\b\b\b\b\b\b\b\b\b\b\b\b\b\b\b\b\b\b\b\b\b\b\b\b\b\b\b\b\b\b\b\b\b\b\b\b\b\b\b\b\b\b                                                                \b\b\b\b\b\b\b\b\b\b\b\b\b\b\b\b\b\b\b\b\b\b\b\b\b\b\b\b\b\b\b\b\b\b\b\b\b\b\b\b\b\b\b\b\b\b\b\b\b\b\b\b\b\b\b\b\b\b\b\b\b\b\b\b 59% 3881 - Alzheimer_s Dataset/train/NonDemented/nonDem344.jpg\b\b\b\b\b\b\b\b\b\b\b\b\b\b\b\b\b\b\b\b\b\b\b\b\b\b\b\b\b\b\b\b\b\b\b\b\b\b\b\b\b\b\b\b\b\b\b\b\b\b\b\b\b\b\b\b\b\b\b\b\b\b\b                                                               \b\b\b\b\b\b\b\b\b\b\b\b\b\b\b\b\b\b\b\b\b\b\b\b\b\b\b\b\b\b\b\b\b\b\b\b\b\b\b\b\b\b\b\b\b\b\b\b\b\b\b\b\b\b\b\b\b\b\b\b\b\b\b 61% 4001 - Alzheimer_s Dataset/train/NonDemented/nonDem452.jpg\b\b\b\b\b\b\b\b\b\b\b\b\b\b\b\b\b\b\b\b\b\b\b\b\b\b\b\b\b\b\b\b\b\b\b\b\b\b\b\b\b\b\b\b\b\b\b\b\b\b\b\b\b\b\b\b\b\b\b\b\b\b\b                                                               \b\b\b\b\b\b\b\b\b\b\b\b\b\b\b\b\b\b\b\b\b\b\b\b\b\b\b\b\b\b\b\b\b\b\b\b\b\b\b\b\b\b\b\b\b\b\b\b\b\b\b\b\b\b\b\b\b\b\b\b\b\b\b 64% 4140 - Alzheimer_s Dataset/train/NonDemented/nonDem578.jpg\b\b\b\b\b\b\b\b\b\b\b\b\b\b\b\b\b\b\b\b\b\b\b\b\b\b\b\b\b\b\b\b\b\b\b\b\b\b\b\b\b\b\b\b\b\b\b\b\b\b\b\b\b\b\b\b\b\b\b\b\b\b\b                                                               \b\b\b\b\b\b\b\b\b\b\b\b\b\b\b\b\b\b\b\b\b\b\b\b\b\b\b\b\b\b\b\b\b\b\b\b\b\b\b\b\b\b\b\b\b\b\b\b\b\b\b\b\b\b\b\b\b\b\b\b\b\b\b 66% 4269 - Alzheimer_s Dataset/train/NonDemented/nonDem694.jpg\b\b\b\b\b\b\b\b\b\b\b\b\b\b\b\b\b\b\b\b\b\b\b\b\b\b\b\b\b\b\b\b\b\b\b\b\b\b\b\b\b\b\b\b\b\b\b\b\b\b\b\b\b\b\b\b\b\b\b\b\b\b\b                                                               \b\b\b\b\b\b\b\b\b\b\b\b\b\b\b\b\b\b\b\b\b\b\b\b\b\b\b\b\b\b\b\b\b\b\b\b\b\b\b\b\b\b\b\b\b\b\b\b\b\b\b\b\b\b\b\b\b\b\b\b\b\b\b 68% 4392 - Alzheimer_s Dataset/train/NonDemented/nonDem804.jpg\b\b\b\b\b\b\b\b\b\b\b\b\b\b\b\b\b\b\b\b\b\b\b\b\b\b\b\b\b\b\b\b\b\b\b\b\b\b\b\b\b\b\b\b\b\b\b\b\b\b\b\b\b\b\b\b\b\b\b\b\b\b\b                                                               \b\b\b\b\b\b\b\b\b\b\b\b\b\b\b\b\b\b\b\b\b\b\b\b\b\b\b\b\b\b\b\b\b\b\b\b\b\b\b\b\b\b\b\b\b\b\b\b\b\b\b\b\b\b\b\b\b\b\b\b\b\b\b 69% 4508 - Alzheimer_s Dataset/train/NonDemented/nonDem909.jpg\b\b\b\b\b\b\b\b\b\b\b\b\b\b\b\b\b\b\b\b\b\b\b\b\b\b\b\b\b\b\b\b\b\b\b\b\b\b\b\b\b\b\b\b\b\b\b\b\b\b\b\b\b\b\b\b\b\b\b\b\b\b\b                                                               \b\b\b\b\b\b\b\b\b\b\b\b\b\b\b\b\b\b\b\b\b\b\b\b\b\b\b\b\b\b\b\b\b\b\b\b\b\b\b\b\b\b\b\b\b\b\b\b\b\b\b\b\b\b\b\b\b\b\b\b\b\b\b 72% 4685\b\b\b\b\b\b\b\b\b         \b\b\b\b\b\b\b\b\b 79% 5129 - Alzheimer_s Dataset/train/VeryMildDemented/verymildDem1467.jpg\b\b\b\b\b\b\b\b\b\b\b\b\b\b\b\b\b\b\b\b\b\b\b\b\b\b\b\b\b\b\b\b\b\b\b\b\b\b\b\b\b\b\b\b\b\b\b\b\b\b\b\b\b\b\b\b\b\b\b\b\b\b\b\b\b\b\b\b\b\b\b\b\b\b                                                                          \b\b\b\b\b\b\b\b\b\b\b\b\b\b\b\b\b\b\b\b\b\b\b\b\b\b\b\b\b\b\b\b\b\b\b\b\b\b\b\b\b\b\b\b\b\b\b\b\b\b\b\b\b\b\b\b\b\b\b\b\b\b\b\b\b\b\b\b\b\b\b\b\b\b 84% 5415 - Alzheimer_s Dataset/train/VeryMildDemented/verymildDem1724.jpg\b\b\b\b\b\b\b\b\b\b\b\b\b\b\b\b\b\b\b\b\b\b\b\b\b\b\b\b\b\b\b\b\b\b\b\b\b\b\b\b\b\b\b\b\b\b\b\b\b\b\b\b\b\b\b\b\b\b\b\b\b\b\b\b\b\b\b\b\b\b\b\b\b\b                                                                          \b\b\b\b\b\b\b\b\b\b\b\b\b\b\b\b\b\b\b\b\b\b\b\b\b\b\b\b\b\b\b\b\b\b\b\b\b\b\b\b\b\b\b\b\b\b\b\b\b\b\b\b\b\b\b\b\b\b\b\b\b\b\b\b\b\b\b\b\b\b\b\b\b\b 87% 5639 - Alzheimer_s Dataset/train/VeryMildDemented/verymildDem313.jpg\b\b\b\b\b\b\b\b\b\b\b\b\b\b\b\b\b\b\b\b\b\b\b\b\b\b\b\b\b\b\b\b\b\b\b\b\b\b\b\b\b\b\b\b\b\b\b\b\b\b\b\b\b\b\b\b\b\b\b\b\b\b\b\b\b\b\b\b\b\b\b\b\b                                                                         \b\b\b\b\b\b\b\b\b\b\b\b\b\b\b\b\b\b\b\b\b\b\b\b\b\b\b\b\b\b\b\b\b\b\b\b\b\b\b\b\b\b\b\b\b\b\b\b\b\b\b\b\b\b\b\b\b\b\b\b\b\b\b\b\b\b\b\b\b\b\b\b\b 90% 5834 - Alzheimer_s Dataset/train/VeryMildDemented/verymildDem49.jpg\b\b\b\b\b\b\b\b\b\b\b\b\b\b\b\b\b\b\b\b\b\b\b\b\b\b\b\b\b\b\b\b\b\b\b\b\b\b\b\b\b\b\b\b\b\b\b\b\b\b\b\b\b\b\b\b\b\b\b\b\b\b\b\b\b\b\b\b\b\b\b\b                                                                        \b\b\b\b\b\b\b\b\b\b\b\b\b\b\b\b\b\b\b\b\b\b\b\b\b\b\b\b\b\b\b\b\b\b\b\b\b\b\b\b\b\b\b\b\b\b\b\b\b\b\b\b\b\b\b\b\b\b\b\b\b\b\b\b\b\b\b\b\b\b\b\b 93% 6016 - Alzheimer_s Dataset/train/VeryMildDemented/verymildDem653.jpg\b\b\b\b\b\b\b\b\b\b\b\b\b\b\b\b\b\b\b\b\b\b\b\b\b\b\b\b\b\b\b\b\b\b\b\b\b\b\b\b\b\b\b\b\b\b\b\b\b\b\b\b\b\b\b\b\b\b\b\b\b\b\b\b\b\b\b\b\b\b\b\b\b                                                                         \b\b\b\b\b\b\b\b\b\b\b\b\b\b\b\b\b\b\b\b\b\b\b\b\b\b\b\b\b\b\b\b\b\b\b\b\b\b\b\b\b\b\b\b\b\b\b\b\b\b\b\b\b\b\b\b\b\b\b\b\b\b\b\b\b\b\b\b\b\b\b\b\b 96% 6194 - Alzheimer_s Dataset/train/VeryMildDemented/verymildDem813.jpg\b\b\b\b\b\b\b\b\b\b\b\b\b\b\b\b\b\b\b\b\b\b\b\b\b\b\b\b\b\b\b\b\b\b\b\b\b\b\b\b\b\b\b\b\b\b\b\b\b\b\b\b\b\b\b\b\b\b\b\b\b\b\b\b\b\b\b\b\b\b\b\b\b                                                                         \b\b\b\b\b\b\b\b\b\b\b\b\b\b\b\b\b\b\b\b\b\b\b\b\b\b\b\b\b\b\b\b\b\b\b\b\b\b\b\b\b\b\b\b\b\b\b\b\b\b\b\b\b\b\b\b\b\b\b\b\b\b\b\b\b\b\b\b\b\b\b\b\bEverything is Ok\n",
            "\n",
            "Files: 6400\n",
            "Size:       34703396\n",
            "Compressed: 35779075\n"
          ]
        }
      ]
    },
    {
      "cell_type": "markdown",
      "source": [
        "# **Pre-processed data and Visualize Sample Images**"
      ],
      "metadata": {
        "id": "15xS79d9Kwcq"
      }
    },
    {
      "cell_type": "code",
      "source": [
        "# Method to print sample images from each class\n",
        "\n",
        "def print_sample_images(train_path, class_labels):\n",
        "\n",
        "  plt.figure(figsize=(10, 10))\n",
        "  for i, class_name in enumerate(class_labels):\n",
        "\n",
        "    # Get a random image from the class directory\n",
        "    img_name = np.random.choice(os.listdir(os.path.join(train_path, class_name)))\n",
        "    img_path = os.path.join(train_path, class_name, img_name)\n",
        "\n",
        "    img = cv2.imread(img_path)\n",
        "    img = cv2.cvtColor(img, cv2.COLOR_BGR2RGB)\n",
        "\n",
        "    plt.subplot(4, 4, i+1)\n",
        "    plt.imshow(img)\n",
        "    plt.title(class_name)\n",
        "    plt.axis('off')\n",
        "\n",
        "  plt.show()"
      ],
      "metadata": {
        "id": "MNs1CHmuLvfE"
      },
      "execution_count": 3,
      "outputs": []
    },
    {
      "cell_type": "markdown",
      "source": [
        "**Sample of train images before pre-processing data from each class**"
      ],
      "metadata": {
        "id": "-lsv3c149KfM"
      }
    },
    {
      "cell_type": "code",
      "source": [
        "train_dir = '/content/Alzheimer_s Dataset/train'\n",
        "class_names = os.listdir('/content/Alzheimer_s Dataset/train')\n",
        "print_sample_images(train_dir, class_names)"
      ],
      "metadata": {
        "colab": {
          "base_uri": "https://localhost:8080/",
          "height": 226
        },
        "id": "hRLa4rFmyi2A",
        "outputId": "1b5215b0-a42f-493c-a70a-de9c60438c58"
      },
      "execution_count": 4,
      "outputs": [
        {
          "output_type": "display_data",
          "data": {
            "text/plain": [
              "<Figure size 1000x1000 with 4 Axes>"
            ],
            "image/png": "[encoded data removed]"
          },
          "metadata": {}
        }
      ]
    },
    {
      "cell_type": "markdown",
      "source": [
        "**Pre-processing data**"
      ],
      "metadata": {
        "id": "QApcnr4b9ln_"
      }
    },
    {
      "cell_type": "code",
      "source": [
        "def process_images_in_folder(folder_path):\n",
        "  width, height = 128, 128\n",
        "\n",
        "  for filename in os.listdir(folder_path):\n",
        "    image_path = os.path.join(folder_path, filename)\n",
        "    image = cv2.imread(image_path)\n",
        "\n",
        "    #pre-processing data using Contrast Limited Adaptive Histogram Equalization (CLAHE)\n",
        "\n",
        "    gray_image = cv2.cvtColor(image, cv2.COLOR_BGR2GRAY)\n",
        "    clahe = cv2.createCLAHE(clipLimit=0.5)\n",
        "    preprocessed_image = clahe.apply(gray_image)\n",
        "\n",
        "    # Save the pre-processed image with the same filename\n",
        "    cv2.imwrite(image_path, preprocessed_image)"
      ],
      "metadata": {
        "id": "LL7OQxObvdFY"
      },
      "execution_count": 5,
      "outputs": []
    },
    {
      "cell_type": "code",
      "source": [
        "train_data_path = '/content/Alzheimer_s Dataset/train'\n",
        "test_data_path = '/content/Alzheimer_s Dataset/test'\n",
        "class_labels = os.listdir('/content/Alzheimer_s Dataset/train')\n",
        "\n",
        "\n",
        "def data_to_be_processed(class_path ,class_labels):\n",
        "  for class_label in class_labels:\n",
        "    class_folder_path = os.path.join(class_path, class_label)\n",
        "    process_images_in_folder(class_folder_path)\n",
        "\n",
        "\n",
        "\n",
        "# train data\n",
        "data_to_be_processed(train_data_path, class_labels)\n",
        "\n",
        "# test data\n",
        "data_to_be_processed(test_data_path, class_labels)"
      ],
      "metadata": {
        "id": "8jRsqRDTuGFu"
      },
      "execution_count": 6,
      "outputs": []
    },
    {
      "cell_type": "markdown",
      "source": [
        "**Sample of train images after pre-processing data from each class**"
      ],
      "metadata": {
        "id": "dTE_evRg9_g6"
      }
    },
    {
      "cell_type": "code",
      "source": [
        "train_dir = '/content/Alzheimer_s Dataset/train'\n",
        "class_names = os.listdir('/content/Alzheimer_s Dataset/train')\n",
        "print_sample_images(train_dir, class_names)"
      ],
      "metadata": {
        "colab": {
          "base_uri": "https://localhost:8080/",
          "height": 226
        },
        "id": "EwEpet6pzGxl",
        "outputId": "628eff6e-c165-466a-de10-9a33269f6b37"
      },
      "execution_count": 7,
      "outputs": [
        {
          "output_type": "display_data",
          "data": {
            "text/plain": [
              "<Figure size 1000x1000 with 4 Axes>"
            ],
            "image/png": "[encoded data removed]"
          },
          "metadata": {}
        }
      ]
    },
    {
      "cell_type": "markdown",
      "source": [
        "# Images in train data"
      ],
      "metadata": {
        "id": "T93m2V-sVDhV"
      }
    },
    {
      "cell_type": "code",
      "source": [
        "train_folder = '/content/Alzheimer_s Dataset/train'\n",
        "class_names_train_folder = os.listdir(train_folder)\n",
        "class_count = []\n",
        "\n",
        "for class_name in class_names_train_folder:\n",
        "  num_images = len(os.listdir(os.path.join(train_folder, class_name)))\n",
        "  class_count.append(num_images)\n",
        "  print(f\"Class {class_name}: {num_images} images\")\n"
      ],
      "metadata": {
        "id": "iniRBG6wVCwo",
        "outputId": "d438e5d7-8719-471a-dd1b-d3b57e4ed08e",
        "colab": {
          "base_uri": "https://localhost:8080/"
        }
      },
      "execution_count": 8,
      "outputs": [
        {
          "output_type": "stream",
          "name": "stdout",
          "text": [
            "Class MildDemented: 717 images\n",
            "Class VeryMildDemented: 1792 images\n",
            "Class ModerateDemented: 52 images\n",
            "Class NonDemented: 2560 images\n"
          ]
        }
      ]
    },
    {
      "cell_type": "code",
      "source": [
        "\n",
        "plt.figure(figsize=(10, 6))\n",
        "plt.bar(class_names_train_folder, class_count)\n",
        "\n",
        "plt.title('The Number Of Images In Train folder For Each Class', fontsize=20)\n",
        "plt.xlabel(\"Class\", fontsize = 20)\n",
        "plt.ylabel(\"Number of Images\", fontsize=20)\n",
        "plt.xticks(rotation=45)\n",
        "\n",
        "plt.show()\n"
      ],
      "metadata": {
        "colab": {
          "base_uri": "https://localhost:8080/",
          "height": 680
        },
        "id": "BY581UoIQ8xG",
        "outputId": "c2a7a827-6482-4576-c15e-d3a920d226e1"
      },
      "execution_count": 9,
      "outputs": [
        {
          "output_type": "display_data",
          "data": {
            "text/plain": [
              "<Figure size 1000x600 with 1 Axes>"
            ],
            "image/png": "[encoded data removed]"
          },
          "metadata": {}
        }
      ]
    },
    {
      "cell_type": "markdown",
      "source": [
        "# **Train Test split and Build Model**"
      ],
      "metadata": {
        "id": "2Jb3kOW7vsuK"
      }
    },
    {
      "cell_type": "code",
      "source": [
        "#  Loads all images and labels from a directory and converts them to a NumPy array.\n",
        "\n",
        "def load_train_data(data_dir):\n",
        "\n",
        "  image_width, image_height = 128, 128\n",
        "  class_names = os.listdir(data_dir)\n",
        "  class_name_to_label = {class_name: i for i, class_name in enumerate(class_names)}\n",
        "  images = []\n",
        "  labels = []\n",
        "\n",
        "  for class_name in class_names:\n",
        "    class_path = os.path.join(data_dir, class_name)\n",
        "    for filename in os.listdir(class_path):\n",
        "\n",
        "      image_path = os.path.join(class_path, filename)\n",
        "      image = cv2.imread(image_path)\n",
        "      image = cv2.cvtColor(image, cv2.COLOR_RGB2GRAY)\n",
        "      image = cv2.resize(image, (image_width, image_height))\n",
        "      image = image / 255.0 #normalize\n",
        "\n",
        "      label = class_name_to_label[class_name]\n",
        "      images.append(image)\n",
        "      labels.append(label)\n",
        "\n",
        "  # Convert the list of images to a NumPy array\n",
        "  X_train = np.asarray(images)\n",
        "  Y_train = np.asarray(labels)\n",
        "\n",
        "  return X_train, Y_train"
      ],
      "metadata": {
        "id": "1Iocg5AKsIE-"
      },
      "execution_count": 10,
      "outputs": []
    },
    {
      "cell_type": "code",
      "source": [
        "X_train , Y_train = load_train_data('/content/Alzheimer_s Dataset/train')"
      ],
      "metadata": {
        "id": "YvrnA0B9rb8O"
      },
      "execution_count": 11,
      "outputs": []
    },
    {
      "cell_type": "code",
      "source": [
        "print(f\"X_train shape: {X_train.shape}\")\n",
        "print(f\"Y_train shape: {Y_train.shape}\")"
      ],
      "metadata": {
        "colab": {
          "base_uri": "https://localhost:8080/"
        },
        "id": "R0abbyc4tbMP",
        "outputId": "2bc95590-31f1-4594-8c14-1beb3fa229ce"
      },
      "execution_count": 12,
      "outputs": [
        {
          "output_type": "stream",
          "name": "stdout",
          "text": [
            "X_train shape: (5121, 128, 128)\n",
            "Y_train shape: (5121,)\n"
          ]
        }
      ]
    },
    {
      "cell_type": "code",
      "source": [
        "Y_train"
      ],
      "metadata": {
        "colab": {
          "base_uri": "https://localhost:8080/"
        },
        "id": "0TXGmPsWvF-r",
        "outputId": "7a4bce14-6c8c-43fb-b2d6-78e6b3f2da36"
      },
      "execution_count": 13,
      "outputs": [
        {
          "output_type": "execute_result",
          "data": {
            "text/plain": [
              "array([0, 0, 0, ..., 3, 3, 3])"
            ]
          },
          "metadata": {},
          "execution_count": 13
        }
      ]
    },
    {
      "cell_type": "code",
      "source": [
        "Y_train = tf.keras.utils.to_categorical(Y_train)"
      ],
      "metadata": {
        "id": "IrL-98W9vRTM"
      },
      "execution_count": 14,
      "outputs": []
    },
    {
      "cell_type": "code",
      "source": [
        "Y_train"
      ],
      "metadata": {
        "colab": {
          "base_uri": "https://localhost:8080/"
        },
        "id": "rqmsAPH1vSed",
        "outputId": "28501627-0f50-4875-80ec-b787fa7abf28"
      },
      "execution_count": 15,
      "outputs": [
        {
          "output_type": "execute_result",
          "data": {
            "text/plain": [
              "array([[1., 0., 0., 0.],\n",
              "       [1., 0., 0., 0.],\n",
              "       [1., 0., 0., 0.],\n",
              "       ...,\n",
              "       [0., 0., 0., 1.],\n",
              "       [0., 0., 0., 1.],\n",
              "       [0., 0., 0., 1.]], dtype=float32)"
            ]
          },
          "metadata": {},
          "execution_count": 15
        }
      ]
    },
    {
      "cell_type": "code",
      "source": [
        "print(Y_train.shape)"
      ],
      "metadata": {
        "id": "N1mHKXfsZ6jH",
        "outputId": "3f06e3c2-e4bb-48a1-a01b-7408cca71f34",
        "colab": {
          "base_uri": "https://localhost:8080/"
        }
      },
      "execution_count": 16,
      "outputs": [
        {
          "output_type": "stream",
          "name": "stdout",
          "text": [
            "(5121, 4)\n"
          ]
        }
      ]
    },
    {
      "cell_type": "code",
      "source": [
        "X_test , Y_test = load_train_data('/content/Alzheimer_s Dataset/test')"
      ],
      "metadata": {
        "id": "EluaLMR0vaed"
      },
      "execution_count": 35,
      "outputs": []
    },
    {
      "cell_type": "code",
      "source": [
        "print(f\"X_test original shape: {X_test.shape}\")\n",
        "print(f\"Y_test original shape: {Y_test.shape}\")"
      ],
      "metadata": {
        "colab": {
          "base_uri": "https://localhost:8080/"
        },
        "id": "fHHjrxCzz2Vg",
        "outputId": "9d835e8c-a4aa-4b6a-d186-445698f87bd7"
      },
      "execution_count": 36,
      "outputs": [
        {
          "output_type": "stream",
          "name": "stdout",
          "text": [
            "X_test original shape: (1279, 128, 128)\n",
            "Y_test original shape: (1279,)\n"
          ]
        }
      ]
    },
    {
      "cell_type": "code",
      "source": [
        "X_val, X_test, Y_val , Y_test = train_test_split(X_test, Y_test, test_size=0.7, random_state=42)"
      ],
      "metadata": {
        "id": "GsY7lvcKzKM-"
      },
      "execution_count": 37,
      "outputs": []
    },
    {
      "cell_type": "code",
      "source": [
        "print(f\"X_test shape: {X_test.shape}\")\n",
        "print(f\"Y_test shape: {Y_test.shape}\")"
      ],
      "metadata": {
        "colab": {
          "base_uri": "https://localhost:8080/"
        },
        "id": "CsRNxXzfvhyq",
        "outputId": "f0d2e294-1516-4f8a-df0d-2fd278809d30"
      },
      "execution_count": 38,
      "outputs": [
        {
          "output_type": "stream",
          "name": "stdout",
          "text": [
            "X_test shape: (896, 128, 128)\n",
            "Y_test shape: (896,)\n"
          ]
        }
      ]
    },
    {
      "cell_type": "code",
      "source": [
        "print(f\"X_validation shape: {X_val.shape}\")\n",
        "print(f\"Y_validation shape: {Y_val.shape}\")"
      ],
      "metadata": {
        "colab": {
          "base_uri": "https://localhost:8080/"
        },
        "id": "j1re7-u0zokv",
        "outputId": "508d5176-721b-4de3-bfb1-3dd0a3ce2f68"
      },
      "execution_count": 39,
      "outputs": [
        {
          "output_type": "stream",
          "name": "stdout",
          "text": [
            "X_validation shape: (383, 128, 128)\n",
            "Y_validation shape: (383,)\n"
          ]
        }
      ]
    },
    {
      "cell_type": "code",
      "source": [
        "Y_val"
      ],
      "metadata": {
        "id": "7e06Hy-bbKXq",
        "outputId": "8ee01746-e21e-4e42-8e4c-22f119cca808",
        "colab": {
          "base_uri": "https://localhost:8080/"
        }
      },
      "execution_count": 40,
      "outputs": [
        {
          "output_type": "execute_result",
          "data": {
            "text/plain": [
              "array([1, 3, 3, 0, 3, 3, 3, 0, 2, 1, 1, 3, 3, 3, 3, 0, 1, 3, 3, 3, 1, 0,\n",
              "       0, 1, 1, 0, 1, 3, 1, 3, 3, 3, 3, 3, 1, 1, 3, 1, 0, 0, 3, 1, 3, 3,\n",
              "       0, 3, 3, 3, 3, 1, 3, 0, 1, 3, 3, 1, 1, 3, 1, 0, 3, 0, 3, 3, 1, 3,\n",
              "       3, 1, 3, 3, 3, 1, 3, 3, 3, 0, 0, 1, 3, 3, 3, 3, 3, 3, 1, 0, 2, 3,\n",
              "       3, 3, 3, 1, 1, 3, 3, 3, 3, 1, 3, 3, 3, 0, 0, 1, 1, 3, 3, 3, 3, 3,\n",
              "       1, 0, 3, 3, 3, 1, 1, 1, 1, 1, 3, 0, 3, 3, 3, 1, 1, 0, 1, 0, 0, 1,\n",
              "       3, 3, 3, 3, 3, 3, 1, 3, 1, 0, 1, 3, 1, 0, 3, 1, 3, 3, 3, 3, 3, 3,\n",
              "       3, 3, 0, 3, 3, 3, 3, 3, 0, 3, 1, 3, 0, 1, 3, 0, 0, 1, 1, 3, 0, 3,\n",
              "       3, 1, 1, 3, 3, 3, 3, 1, 1, 3, 1, 0, 1, 3, 3, 3, 1, 3, 1, 3, 0, 1,\n",
              "       3, 3, 3, 1, 1, 1, 0, 3, 3, 1, 3, 1, 1, 3, 1, 0, 1, 3, 1, 3, 3, 1,\n",
              "       3, 1, 3, 0, 0, 3, 3, 3, 3, 1, 3, 3, 1, 3, 3, 3, 2, 2, 3, 3, 3, 3,\n",
              "       3, 1, 3, 1, 3, 1, 3, 1, 3, 3, 1, 0, 3, 1, 3, 3, 3, 3, 1, 1, 3, 3,\n",
              "       1, 3, 3, 3, 3, 1, 3, 3, 3, 0, 3, 1, 1, 3, 3, 3, 3, 1, 0, 3, 0, 3,\n",
              "       1, 1, 1, 1, 1, 1, 3, 3, 3, 3, 1, 0, 0, 3, 3, 1, 1, 1, 3, 1, 3, 3,\n",
              "       3, 1, 3, 1, 3, 1, 3, 1, 3, 1, 0, 3, 1, 3, 3, 1, 3, 3, 3, 1, 0, 3,\n",
              "       1, 3, 0, 3, 1, 3, 1, 0, 1, 1, 1, 0, 3, 0, 3, 3, 3, 1, 3, 3, 3, 1,\n",
              "       3, 3, 1, 3, 1, 3, 3, 1, 0, 1, 3, 1, 3, 3, 1, 3, 1, 3, 0, 3, 3, 0,\n",
              "       1, 3, 1, 0, 3, 3, 3, 3, 3])"
            ]
          },
          "metadata": {},
          "execution_count": 40
        }
      ]
    },
    {
      "cell_type": "code",
      "source": [
        "Y_val_cat = tf.keras.utils.to_categorical(Y_val)"
      ],
      "metadata": {
        "id": "8ZNqGh3_bAtb"
      },
      "execution_count": 41,
      "outputs": []
    },
    {
      "cell_type": "code",
      "source": [
        "Y_val_cat"
      ],
      "metadata": {
        "id": "7pcICqKvbNWR",
        "outputId": "4c55c20a-93a5-4ad8-a84a-144459ab5e2a",
        "colab": {
          "base_uri": "https://localhost:8080/"
        }
      },
      "execution_count": 42,
      "outputs": [
        {
          "output_type": "execute_result",
          "data": {
            "text/plain": [
              "array([[0., 1., 0., 0.],\n",
              "       [0., 0., 0., 1.],\n",
              "       [0., 0., 0., 1.],\n",
              "       ...,\n",
              "       [0., 0., 0., 1.],\n",
              "       [0., 0., 0., 1.],\n",
              "       [0., 0., 0., 1.]], dtype=float32)"
            ]
          },
          "metadata": {},
          "execution_count": 42
        }
      ]
    },
    {
      "cell_type": "code",
      "source": [
        "print(Y_val_cat.shape)"
      ],
      "metadata": {
        "id": "pMgPTyUrbTH3",
        "outputId": "e8c22c48-0ee1-40e2-d79d-ac8e0c996bbe",
        "colab": {
          "base_uri": "https://localhost:8080/"
        }
      },
      "execution_count": 43,
      "outputs": [
        {
          "output_type": "stream",
          "name": "stdout",
          "text": [
            "(383, 4)\n"
          ]
        }
      ]
    },
    {
      "cell_type": "code",
      "source": [
        "Y_test"
      ],
      "metadata": {
        "colab": {
          "base_uri": "https://localhost:8080/"
        },
        "id": "dYx63ohEvlVv",
        "outputId": "be63e89b-c4b9-4929-be92-ac74118786ea"
      },
      "execution_count": 44,
      "outputs": [
        {
          "output_type": "execute_result",
          "data": {
            "text/plain": [
              "array([3, 3, 1, 3, 3, 1, 3, 3, 3, 3, 3, 1, 0, 0, 1, 1, 1, 3, 1, 1, 3, 3,\n",
              "       1, 1, 1, 3, 3, 3, 3, 3, 1, 3, 1, 0, 1, 3, 0, 1, 3, 3, 1, 1, 3, 0,\n",
              "       1, 3, 1, 0, 3, 3, 3, 3, 0, 0, 0, 1, 0, 3, 3, 3, 1, 1, 3, 3, 1, 3,\n",
              "       3, 1, 3, 3, 3, 1, 3, 0, 0, 3, 3, 3, 3, 1, 1, 1, 1, 3, 1, 3, 3, 1,\n",
              "       3, 1, 0, 1, 3, 3, 3, 0, 1, 0, 1, 3, 1, 1, 2, 3, 0, 3, 1, 1, 0, 3,\n",
              "       1, 1, 1, 3, 3, 1, 3, 3, 1, 3, 1, 1, 1, 3, 3, 3, 3, 3, 2, 3, 1, 1,\n",
              "       3, 3, 0, 3, 3, 0, 3, 3, 3, 0, 1, 1, 1, 1, 1, 3, 3, 1, 0, 0, 3, 1,\n",
              "       3, 3, 1, 1, 0, 3, 3, 3, 3, 3, 1, 3, 3, 3, 1, 1, 1, 0, 1, 3, 3, 3,\n",
              "       2, 0, 1, 1, 1, 1, 0, 3, 3, 1, 0, 3, 1, 0, 1, 3, 1, 3, 3, 3, 1, 1,\n",
              "       3, 3, 1, 3, 3, 1, 3, 1, 1, 3, 3, 3, 1, 3, 3, 3, 0, 1, 1, 1, 1, 1,\n",
              "       3, 1, 0, 1, 1, 1, 3, 3, 3, 3, 1, 3, 1, 1, 3, 0, 0, 3, 3, 3, 1, 1,\n",
              "       0, 1, 3, 3, 3, 1, 1, 3, 3, 3, 3, 3, 0, 1, 1, 3, 3, 3, 0, 3, 3, 3,\n",
              "       1, 1, 3, 3, 0, 1, 3, 1, 0, 1, 1, 1, 1, 3, 1, 1, 1, 1, 1, 3, 1, 3,\n",
              "       3, 1, 1, 3, 0, 3, 3, 3, 1, 3, 3, 0, 3, 3, 3, 3, 3, 3, 1, 1, 3, 1,\n",
              "       1, 0, 3, 1, 3, 3, 3, 3, 1, 3, 1, 1, 3, 3, 1, 3, 3, 3, 0, 0, 3, 1,\n",
              "       0, 3, 1, 1, 3, 3, 2, 1, 0, 1, 3, 3, 0, 1, 3, 1, 0, 3, 3, 1, 1, 1,\n",
              "       1, 3, 1, 3, 1, 3, 3, 3, 3, 3, 3, 3, 1, 3, 1, 3, 1, 3, 1, 1, 3, 3,\n",
              "       3, 0, 0, 1, 3, 0, 1, 3, 3, 3, 3, 3, 3, 0, 0, 3, 3, 3, 3, 3, 1, 1,\n",
              "       3, 1, 3, 1, 3, 3, 0, 0, 3, 3, 1, 3, 3, 1, 1, 1, 1, 3, 3, 3, 1, 0,\n",
              "       3, 0, 1, 1, 0, 1, 3, 1, 1, 3, 3, 3, 3, 3, 1, 1, 3, 3, 1, 3, 3, 1,\n",
              "       1, 1, 1, 3, 3, 0, 0, 1, 1, 3, 3, 1, 3, 3, 1, 3, 0, 3, 1, 1, 3, 1,\n",
              "       3, 3, 3, 1, 3, 1, 1, 1, 0, 1, 3, 0, 1, 0, 3, 0, 1, 1, 0, 3, 1, 1,\n",
              "       0, 1, 3, 3, 1, 1, 1, 3, 3, 1, 2, 1, 3, 1, 1, 3, 1, 3, 3, 1, 1, 3,\n",
              "       3, 1, 1, 0, 1, 3, 0, 1, 1, 1, 1, 1, 1, 1, 0, 3, 3, 1, 3, 3, 3, 3,\n",
              "       3, 1, 1, 0, 3, 0, 3, 1, 1, 0, 1, 1, 3, 3, 1, 0, 1, 3, 3, 3, 3, 3,\n",
              "       3, 1, 3, 1, 1, 3, 3, 1, 3, 3, 1, 3, 3, 0, 0, 3, 0, 3, 1, 1, 3, 3,\n",
              "       3, 0, 0, 3, 0, 1, 3, 3, 1, 3, 3, 1, 3, 3, 3, 0, 1, 3, 0, 1, 3, 1,\n",
              "       1, 0, 3, 1, 0, 3, 1, 3, 0, 1, 3, 1, 1, 3, 3, 1, 1, 3, 0, 1, 3, 1,\n",
              "       0, 3, 3, 3, 3, 0, 2, 3, 1, 1, 3, 3, 1, 3, 3, 3, 3, 3, 1, 3, 3, 3,\n",
              "       3, 1, 1, 1, 1, 3, 1, 0, 0, 3, 3, 3, 0, 3, 1, 3, 1, 3, 1, 3, 1, 1,\n",
              "       0, 1, 3, 1, 3, 3, 3, 3, 3, 0, 1, 0, 3, 1, 0, 3, 1, 3, 1, 1, 0, 0,\n",
              "       1, 3, 1, 3, 3, 1, 3, 1, 1, 3, 1, 1, 0, 0, 1, 1, 3, 3, 0, 3, 3, 0,\n",
              "       1, 3, 3, 1, 0, 3, 1, 3, 1, 1, 0, 0, 3, 3, 3, 1, 0, 3, 0, 3, 1, 3,\n",
              "       3, 3, 1, 1, 0, 3, 3, 3, 3, 1, 3, 3, 1, 3, 3, 1, 1, 3, 1, 1, 1, 3,\n",
              "       0, 0, 3, 3, 3, 3, 1, 0, 1, 3, 1, 3, 3, 1, 3, 3, 3, 3, 3, 3, 1, 3,\n",
              "       3, 3, 1, 1, 1, 3, 3, 3, 3, 1, 1, 1, 0, 3, 3, 1, 3, 1, 0, 1, 1, 1,\n",
              "       3, 0, 3, 3, 3, 1, 3, 3, 3, 0, 1, 3, 1, 0, 0, 1, 1, 1, 3, 1, 3, 1,\n",
              "       3, 3, 3, 3, 3, 0, 3, 1, 3, 1, 3, 0, 1, 1, 3, 1, 3, 3, 3, 1, 1, 3,\n",
              "       0, 3, 3, 1, 3, 0, 1, 3, 3, 3, 1, 3, 1, 1, 3, 1, 1, 3, 3, 0, 3, 0,\n",
              "       3, 1, 3, 0, 1, 3, 0, 0, 3, 3, 3, 1, 1, 3, 1, 1, 1, 1, 3, 1, 0, 2,\n",
              "       3, 3, 3, 1, 2, 3, 3, 3, 0, 3, 3, 0, 1, 3, 3, 0])"
            ]
          },
          "metadata": {},
          "execution_count": 44
        }
      ]
    },
    {
      "cell_type": "code",
      "source": [
        "Y_test_cat = tf.keras.utils.to_categorical(Y_test)"
      ],
      "metadata": {
        "id": "FVzCHTW1vnXL"
      },
      "execution_count": 45,
      "outputs": []
    },
    {
      "cell_type": "code",
      "source": [
        "print(Y_test_cat.shape)"
      ],
      "metadata": {
        "colab": {
          "base_uri": "https://localhost:8080/"
        },
        "id": "x8dTjhjLGzRb",
        "outputId": "480e8549-df0d-4b57-8a9a-1f766a82049f"
      },
      "execution_count": 46,
      "outputs": [
        {
          "output_type": "stream",
          "name": "stdout",
          "text": [
            "(896, 4)\n"
          ]
        }
      ]
    },
    {
      "cell_type": "code",
      "source": [
        "Y_test_cat"
      ],
      "metadata": {
        "colab": {
          "base_uri": "https://localhost:8080/"
        },
        "id": "vINQgFzqvr0U",
        "outputId": "6cf6997f-5bd7-4456-b187-66f3873c6234"
      },
      "execution_count": 47,
      "outputs": [
        {
          "output_type": "execute_result",
          "data": {
            "text/plain": [
              "array([[0., 0., 0., 1.],\n",
              "       [0., 0., 0., 1.],\n",
              "       [0., 1., 0., 0.],\n",
              "       ...,\n",
              "       [0., 0., 0., 1.],\n",
              "       [0., 0., 0., 1.],\n",
              "       [1., 0., 0., 0.]], dtype=float32)"
            ]
          },
          "metadata": {},
          "execution_count": 47
        }
      ]
    },
    {
      "cell_type": "code",
      "source": [
        "# CNN model\n",
        "model1 = Sequential()\n",
        "inputSize = (128,128,1)\n",
        "\n",
        "#ilters=32, kernel_size=(4,4), input_shape=(28,28,1), activation='relu')\n",
        "model1.add(Conv2D(filters = 32, kernel_size=(3,3), input_shape=inputSize, activation='relu'))\n",
        "model1.add(MaxPool2D(pool_size=(2,2)))\n",
        "\n",
        "model1.add(Conv2D(filters = 32, kernel_size=(3,3), input_shape=inputSize, activation='relu'))\n",
        "model1.add(MaxPool2D(pool_size=(2,2)))\n",
        "\n",
        "model1.add(Conv2D(filters = 32, kernel_size=(3,3), input_shape=inputSize, activation='relu'))\n",
        "model1.add(MaxPool2D(pool_size=(2,2)))\n",
        "\n",
        "model1.add(Flatten())\n",
        "\n",
        "model1.add(Dense(1024, activation='relu'))\n",
        "model1.add(Dropout(0.2))\n",
        "\n",
        "model1.add(Dense(4, activation = 'softmax'))\n",
        "model1.compile(loss = 'categorical_crossentropy',\n",
        "              optimizer = 'adam',\n",
        "              metrics = ['accuracy'])"
      ],
      "metadata": {
        "id": "qyfIQ8gr7QZV"
      },
      "execution_count": 48,
      "outputs": []
    },
    {
      "cell_type": "code",
      "source": [
        "model1.summary()"
      ],
      "metadata": {
        "colab": {
          "base_uri": "https://localhost:8080/"
        },
        "id": "p-KxKdTWBtpn",
        "outputId": "fd908262-caee-4a35-e6c4-ebc955603b4b"
      },
      "execution_count": 49,
      "outputs": [
        {
          "output_type": "stream",
          "name": "stdout",
          "text": [
            "Model: \"sequential_1\"\n",
            "_________________________________________________________________\n",
            " Layer (type)                Output Shape              Param #   \n",
            "=================================================================\n",
            " conv2d_3 (Conv2D)           (None, 126, 126, 32)      320       \n",
            "                                                                 \n",
            " max_pooling2d_3 (MaxPoolin  (None, 63, 63, 32)        0         \n",
            " g2D)                                                            \n",
            "                                                                 \n",
            " conv2d_4 (Conv2D)           (None, 61, 61, 32)        9248      \n",
            "                                                                 \n",
            " max_pooling2d_4 (MaxPoolin  (None, 30, 30, 32)        0         \n",
            " g2D)                                                            \n",
            "                                                                 \n",
            " conv2d_5 (Conv2D)           (None, 28, 28, 32)        9248      \n",
            "                                                                 \n",
            " max_pooling2d_5 (MaxPoolin  (None, 14, 14, 32)        0         \n",
            " g2D)                                                            \n",
            "                                                                 \n",
            " flatten_1 (Flatten)         (None, 6272)              0         \n",
            "                                                                 \n",
            " dense_2 (Dense)             (None, 1024)              6423552   \n",
            "                                                                 \n",
            " dropout_1 (Dropout)         (None, 1024)              0         \n",
            "                                                                 \n",
            " dense_3 (Dense)             (None, 4)                 4100      \n",
            "                                                                 \n",
            "=================================================================\n",
            "Total params: 6446468 (24.59 MB)\n",
            "Trainable params: 6446468 (24.59 MB)\n",
            "Non-trainable params: 0 (0.00 Byte)\n",
            "_________________________________________________________________\n"
          ]
        }
      ]
    },
    {
      "cell_type": "code",
      "source": [
        "results = model1.fit(X_train, Y_train, epochs=35, validation_data=(X_val, Y_val_cat))"
      ],
      "metadata": {
        "colab": {
          "base_uri": "https://localhost:8080/"
        },
        "id": "dIYSHz2HEwZ3",
        "outputId": "ab064ff0-4a49-4fb8-bbd6-ce32a1a86143"
      },
      "execution_count": 50,
      "outputs": [
        {
          "output_type": "stream",
          "name": "stdout",
          "text": [
            "Epoch 1/35\n",
            "161/161 [==============================] - 123s 753ms/step - loss: 0.9845 - accuracy: 0.5298 - val_loss: 0.9078 - val_accuracy: 0.5744\n",
            "Epoch 2/35\n",
            "161/161 [==============================] - 117s 726ms/step - loss: 0.8093 - accuracy: 0.6366 - val_loss: 0.9769 - val_accuracy: 0.6371\n",
            "Epoch 3/35\n",
            "161/161 [==============================] - 121s 749ms/step - loss: 0.6107 - accuracy: 0.7376 - val_loss: 0.8647 - val_accuracy: 0.6527\n",
            "Epoch 4/35\n",
            "161/161 [==============================] - 119s 742ms/step - loss: 0.4003 - accuracy: 0.8346 - val_loss: 0.8283 - val_accuracy: 0.7102\n",
            "Epoch 5/35\n",
            "161/161 [==============================] - 118s 733ms/step - loss: 0.1840 - accuracy: 0.9328 - val_loss: 0.9755 - val_accuracy: 0.6893\n",
            "Epoch 6/35\n",
            "161/161 [==============================] - 124s 771ms/step - loss: 0.0758 - accuracy: 0.9746 - val_loss: 1.3278 - val_accuracy: 0.6971\n",
            "Epoch 7/35\n",
            "161/161 [==============================] - 119s 743ms/step - loss: 0.0583 - accuracy: 0.9826 - val_loss: 2.0408 - val_accuracy: 0.5744\n",
            "Epoch 8/35\n",
            "161/161 [==============================] - 122s 756ms/step - loss: 0.0201 - accuracy: 0.9945 - val_loss: 1.4191 - val_accuracy: 0.7102\n",
            "Epoch 9/35\n",
            "161/161 [==============================] - 116s 722ms/step - loss: 0.0243 - accuracy: 0.9922 - val_loss: 2.1797 - val_accuracy: 0.5796\n",
            "Epoch 10/35\n",
            "161/161 [==============================] - 119s 738ms/step - loss: 0.0205 - accuracy: 0.9938 - val_loss: 1.6525 - val_accuracy: 0.6789\n",
            "Epoch 11/35\n",
            "161/161 [==============================] - 115s 714ms/step - loss: 0.0060 - accuracy: 0.9990 - val_loss: 2.1528 - val_accuracy: 0.6658\n",
            "Epoch 12/35\n",
            "161/161 [==============================] - 111s 692ms/step - loss: 8.9683e-04 - accuracy: 1.0000 - val_loss: 2.0167 - val_accuracy: 0.6762\n",
            "Epoch 13/35\n",
            "161/161 [==============================] - 127s 792ms/step - loss: 5.0038e-04 - accuracy: 1.0000 - val_loss: 2.0939 - val_accuracy: 0.6997\n",
            "Epoch 14/35\n",
            "161/161 [==============================] - 121s 751ms/step - loss: 2.7830e-04 - accuracy: 1.0000 - val_loss: 2.1233 - val_accuracy: 0.6919\n",
            "Epoch 15/35\n",
            "161/161 [==============================] - 121s 752ms/step - loss: 2.2949e-04 - accuracy: 1.0000 - val_loss: 2.2118 - val_accuracy: 0.6841\n",
            "Epoch 16/35\n",
            "161/161 [==============================] - 120s 745ms/step - loss: 2.7218e-04 - accuracy: 1.0000 - val_loss: 2.1191 - val_accuracy: 0.7102\n",
            "Epoch 17/35\n",
            "161/161 [==============================] - 120s 748ms/step - loss: 1.3376e-04 - accuracy: 1.0000 - val_loss: 2.4738 - val_accuracy: 0.6841\n",
            "Epoch 18/35\n",
            "161/161 [==============================] - 120s 747ms/step - loss: 8.0148e-05 - accuracy: 1.0000 - val_loss: 2.4352 - val_accuracy: 0.6789\n",
            "Epoch 19/35\n",
            "161/161 [==============================] - 119s 741ms/step - loss: 8.6964e-05 - accuracy: 1.0000 - val_loss: 2.3602 - val_accuracy: 0.6867\n",
            "Epoch 20/35\n",
            "161/161 [==============================] - 118s 735ms/step - loss: 1.1171e-04 - accuracy: 1.0000 - val_loss: 2.3752 - val_accuracy: 0.6815\n",
            "Epoch 21/35\n",
            "161/161 [==============================] - 121s 750ms/step - loss: 8.5693e-05 - accuracy: 1.0000 - val_loss: 2.4486 - val_accuracy: 0.6841\n",
            "Epoch 22/35\n",
            "161/161 [==============================] - 120s 742ms/step - loss: 7.3714e-05 - accuracy: 1.0000 - val_loss: 2.5401 - val_accuracy: 0.6841\n",
            "Epoch 23/35\n",
            "161/161 [==============================] - 120s 748ms/step - loss: 5.9440e-05 - accuracy: 1.0000 - val_loss: 2.6504 - val_accuracy: 0.6736\n",
            "Epoch 24/35\n",
            "161/161 [==============================] - 119s 742ms/step - loss: 5.3015e-05 - accuracy: 1.0000 - val_loss: 2.5652 - val_accuracy: 0.6867\n",
            "Epoch 25/35\n",
            "161/161 [==============================] - 121s 754ms/step - loss: 4.4150e-05 - accuracy: 1.0000 - val_loss: 2.5219 - val_accuracy: 0.6971\n",
            "Epoch 26/35\n",
            "161/161 [==============================] - 119s 739ms/step - loss: 3.1992e-05 - accuracy: 1.0000 - val_loss: 2.5638 - val_accuracy: 0.6919\n",
            "Epoch 27/35\n",
            "161/161 [==============================] - 119s 741ms/step - loss: 2.8654e-05 - accuracy: 1.0000 - val_loss: 2.5490 - val_accuracy: 0.6971\n",
            "Epoch 28/35\n",
            "161/161 [==============================] - 119s 737ms/step - loss: 3.8015e-05 - accuracy: 1.0000 - val_loss: 2.6062 - val_accuracy: 0.6971\n",
            "Epoch 29/35\n",
            "161/161 [==============================] - 122s 755ms/step - loss: 2.7257e-05 - accuracy: 1.0000 - val_loss: 2.6027 - val_accuracy: 0.6997\n",
            "Epoch 30/35\n",
            "161/161 [==============================] - 119s 741ms/step - loss: 2.4893e-05 - accuracy: 1.0000 - val_loss: 2.5209 - val_accuracy: 0.7154\n",
            "Epoch 31/35\n",
            "161/161 [==============================] - 118s 733ms/step - loss: 2.4795e-05 - accuracy: 1.0000 - val_loss: 2.6522 - val_accuracy: 0.6971\n",
            "Epoch 32/35\n",
            "161/161 [==============================] - 123s 765ms/step - loss: 1.9911e-05 - accuracy: 1.0000 - val_loss: 2.6426 - val_accuracy: 0.7050\n",
            "Epoch 33/35\n",
            "161/161 [==============================] - 122s 759ms/step - loss: 1.9508e-05 - accuracy: 1.0000 - val_loss: 2.7566 - val_accuracy: 0.6919\n",
            "Epoch 34/35\n",
            "161/161 [==============================] - 122s 760ms/step - loss: 1.5143e-05 - accuracy: 1.0000 - val_loss: 2.6552 - val_accuracy: 0.7023\n",
            "Epoch 35/35\n",
            "161/161 [==============================] - 122s 755ms/step - loss: 3.6181e-05 - accuracy: 1.0000 - val_loss: 3.6408 - val_accuracy: 0.6110\n"
          ]
        }
      ]
    },
    {
      "cell_type": "code",
      "source": [
        "print(model1.output_shape)"
      ],
      "metadata": {
        "id": "PAPdI8YsHE63",
        "colab": {
          "base_uri": "https://localhost:8080/"
        },
        "outputId": "e516bccc-e90a-43bf-c0a4-4da892973b1a"
      },
      "execution_count": 51,
      "outputs": [
        {
          "output_type": "stream",
          "name": "stdout",
          "text": [
            "(None, 4)\n"
          ]
        }
      ]
    },
    {
      "cell_type": "code",
      "source": [
        "hist_=pd.DataFrame(results.history)\n",
        "hist_"
      ],
      "metadata": {
        "id": "JTD7k4UktUDx",
        "outputId": "c417b31a-a821-4d15-c3fb-aa1ca7bcc73b",
        "colab": {
          "base_uri": "https://localhost:8080/",
          "height": 1000
        }
      },
      "execution_count": 52,
      "outputs": [
        {
          "output_type": "execute_result",
          "data": {
            "text/plain": [
              "        loss  accuracy  val_loss  val_accuracy\n",
              "0   0.984543  0.529779  0.907804      0.574413\n",
              "1   0.809286  0.636594  0.976869      0.637076\n",
              "2   0.610664  0.737551  0.864715      0.652741\n",
              "3   0.400275  0.834603  0.828311      0.710183\n",
              "4   0.184003  0.932826  0.975549      0.689295\n",
              "5   0.075829  0.974614  1.327800      0.697128\n",
              "6   0.058340  0.982621  2.040763      0.574413\n",
              "7   0.020057  0.994532  1.419125      0.710183\n",
              "8   0.024260  0.992189  2.179688      0.579634\n",
              "9   0.020487  0.993751  1.652535      0.678851\n",
              "10  0.005997  0.999024  2.152796      0.665796\n",
              "11  0.000897  1.000000  2.016705      0.676240\n",
              "12  0.000500  1.000000  2.093921      0.699739\n",
              "13  0.000278  1.000000  2.123294      0.691906\n",
              "14  0.000229  1.000000  2.211778      0.684073\n",
              "15  0.000272  1.000000  2.119061      0.710183\n",
              "16  0.000134  1.000000  2.473845      0.684073\n",
              "17  0.000080  1.000000  2.435220      0.678851\n",
              "18  0.000087  1.000000  2.360236      0.686684\n",
              "19  0.000112  1.000000  2.375232      0.681462\n",
              "20  0.000086  1.000000  2.448621      0.684073\n",
              "21  0.000074  1.000000  2.540140      0.684073\n",
              "22  0.000059  1.000000  2.650417      0.673629\n",
              "23  0.000053  1.000000  2.565213      0.686684\n",
              "24  0.000044  1.000000  2.521894      0.697128\n",
              "25  0.000032  1.000000  2.563830      0.691906\n",
              "26  0.000029  1.000000  2.548974      0.697128\n",
              "27  0.000038  1.000000  2.606228      0.697128\n",
              "28  0.000027  1.000000  2.602660      0.699739\n",
              "29  0.000025  1.000000  2.520941      0.715405\n",
              "30  0.000025  1.000000  2.652156      0.697128\n",
              "31  0.000020  1.000000  2.642606      0.704961\n",
              "32  0.000020  1.000000  2.756601      0.691906\n",
              "33  0.000015  1.000000  2.655158      0.702350\n",
              "34  0.000036  1.000000  3.640767      0.610966"
            ],
            "text/html": [
              "\n",
              "  <div id=\"df-52094f39-b82d-4be2-8b33-14012428c93c\" class=\"colab-df-container\">\n",
              "    <div>\n",
              "<style scoped>\n",
              "    .dataframe tbody tr th:only-of-type {\n",
              "        vertical-align: middle;\n",
              "    }\n",
              "\n",
              "    .dataframe tbody tr th {\n",
              "        vertical-align: top;\n",
              "    }\n",
              "\n",
              "    .dataframe thead th {\n",
              "        text-align: right;\n",
              "    }\n",
              "</style>\n",
              "<table border=\"1\" class=\"dataframe\">\n",
              "  <thead>\n",
              "    <tr style=\"text-align: right;\">\n",
              "      <th></th>\n",
              "      <th>loss</th>\n",
              "      <th>accuracy</th>\n",
              "      <th>val_loss</th>\n",
              "      <th>val_accuracy</th>\n",
              "    </tr>\n",
              "  </thead>\n",
              "  <tbody>\n",
              "    <tr>\n",
              "      <th>0</th>\n",
              "      <td>0.984543</td>\n",
              "      <td>0.529779</td>\n",
              "      <td>0.907804</td>\n",
              "      <td>0.574413</td>\n",
              "    </tr>\n",
              "    <tr>\n",
              "      <th>1</th>\n",
              "      <td>0.809286</td>\n",
              "      <td>0.636594</td>\n",
              "      <td>0.976869</td>\n",
              "      <td>0.637076</td>\n",
              "    </tr>\n",
              "    <tr>\n",
              "      <th>2</th>\n",
              "      <td>0.610664</td>\n",
              "      <td>0.737551</td>\n",
              "      <td>0.864715</td>\n",
              "      <td>0.652741</td>\n",
              "    </tr>\n",
              "    <tr>\n",
              "      <th>3</th>\n",
              "      <td>0.400275</td>\n",
              "      <td>0.834603</td>\n",
              "      <td>0.828311</td>\n",
              "      <td>0.710183</td>\n",
              "    </tr>\n",
              "    <tr>\n",
              "      <th>4</th>\n",
              "      <td>0.184003</td>\n",
              "      <td>0.932826</td>\n",
              "      <td>0.975549</td>\n",
              "      <td>0.689295</td>\n",
              "    </tr>\n",
              "    <tr>\n",
              "      <th>5</th>\n",
              "      <td>0.075829</td>\n",
              "      <td>0.974614</td>\n",
              "      <td>1.327800</td>\n",
              "      <td>0.697128</td>\n",
              "    </tr>\n",
              "    <tr>\n",
              "      <th>6</th>\n",
              "      <td>0.058340</td>\n",
              "      <td>0.982621</td>\n",
              "      <td>2.040763</td>\n",
              "      <td>0.574413</td>\n",
              "    </tr>\n",
              "    <tr>\n",
              "      <th>7</th>\n",
              "      <td>0.020057</td>\n",
              "      <td>0.994532</td>\n",
              "      <td>1.419125</td>\n",
              "      <td>0.710183</td>\n",
              "    </tr>\n",
              "    <tr>\n",
              "      <th>8</th>\n",
              "      <td>0.024260</td>\n",
              "      <td>0.992189</td>\n",
              "      <td>2.179688</td>\n",
              "      <td>0.579634</td>\n",
              "    </tr>\n",
              "    <tr>\n",
              "      <th>9</th>\n",
              "      <td>0.020487</td>\n",
              "      <td>0.993751</td>\n",
              "      <td>1.652535</td>\n",
              "      <td>0.678851</td>\n",
              "    </tr>\n",
              "    <tr>\n",
              "      <th>10</th>\n",
              "      <td>0.005997</td>\n",
              "      <td>0.999024</td>\n",
              "      <td>2.152796</td>\n",
              "      <td>0.665796</td>\n",
              "    </tr>\n",
              "    <tr>\n",
              "      <th>11</th>\n",
              "      <td>0.000897</td>\n",
              "      <td>1.000000</td>\n",
              "      <td>2.016705</td>\n",
              "      <td>0.676240</td>\n",
              "    </tr>\n",
              "    <tr>\n",
              "      <th>12</th>\n",
              "      <td>0.000500</td>\n",
              "      <td>1.000000</td>\n",
              "      <td>2.093921</td>\n",
              "      <td>0.699739</td>\n",
              "    </tr>\n",
              "    <tr>\n",
              "      <th>13</th>\n",
              "      <td>0.000278</td>\n",
              "      <td>1.000000</td>\n",
              "      <td>2.123294</td>\n",
              "      <td>0.691906</td>\n",
              "    </tr>\n",
              "    <tr>\n",
              "      <th>14</th>\n",
              "      <td>0.000229</td>\n",
              "      <td>1.000000</td>\n",
              "      <td>2.211778</td>\n",
              "      <td>0.684073</td>\n",
              "    </tr>\n",
              "    <tr>\n",
              "      <th>15</th>\n",
              "      <td>0.000272</td>\n",
              "      <td>1.000000</td>\n",
              "      <td>2.119061</td>\n",
              "      <td>0.710183</td>\n",
              "    </tr>\n",
              "    <tr>\n",
              "      <th>16</th>\n",
              "      <td>0.000134</td>\n",
              "      <td>1.000000</td>\n",
              "      <td>2.473845</td>\n",
              "      <td>0.684073</td>\n",
              "    </tr>\n",
              "    <tr>\n",
              "      <th>17</th>\n",
              "      <td>0.000080</td>\n",
              "      <td>1.000000</td>\n",
              "      <td>2.435220</td>\n",
              "      <td>0.678851</td>\n",
              "    </tr>\n",
              "    <tr>\n",
              "      <th>18</th>\n",
              "      <td>0.000087</td>\n",
              "      <td>1.000000</td>\n",
              "      <td>2.360236</td>\n",
              "      <td>0.686684</td>\n",
              "    </tr>\n",
              "    <tr>\n",
              "      <th>19</th>\n",
              "      <td>0.000112</td>\n",
              "      <td>1.000000</td>\n",
              "      <td>2.375232</td>\n",
              "      <td>0.681462</td>\n",
              "    </tr>\n",
              "    <tr>\n",
              "      <th>20</th>\n",
              "      <td>0.000086</td>\n",
              "      <td>1.000000</td>\n",
              "      <td>2.448621</td>\n",
              "      <td>0.684073</td>\n",
              "    </tr>\n",
              "    <tr>\n",
              "      <th>21</th>\n",
              "      <td>0.000074</td>\n",
              "      <td>1.000000</td>\n",
              "      <td>2.540140</td>\n",
              "      <td>0.684073</td>\n",
              "    </tr>\n",
              "    <tr>\n",
              "      <th>22</th>\n",
              "      <td>0.000059</td>\n",
              "      <td>1.000000</td>\n",
              "      <td>2.650417</td>\n",
              "      <td>0.673629</td>\n",
              "    </tr>\n",
              "    <tr>\n",
              "      <th>23</th>\n",
              "      <td>0.000053</td>\n",
              "      <td>1.000000</td>\n",
              "      <td>2.565213</td>\n",
              "      <td>0.686684</td>\n",
              "    </tr>\n",
              "    <tr>\n",
              "      <th>24</th>\n",
              "      <td>0.000044</td>\n",
              "      <td>1.000000</td>\n",
              "      <td>2.521894</td>\n",
              "      <td>0.697128</td>\n",
              "    </tr>\n",
              "    <tr>\n",
              "      <th>25</th>\n",
              "      <td>0.000032</td>\n",
              "      <td>1.000000</td>\n",
              "      <td>2.563830</td>\n",
              "      <td>0.691906</td>\n",
              "    </tr>\n",
              "    <tr>\n",
              "      <th>26</th>\n",
              "      <td>0.000029</td>\n",
              "      <td>1.000000</td>\n",
              "      <td>2.548974</td>\n",
              "      <td>0.697128</td>\n",
              "    </tr>\n",
              "    <tr>\n",
              "      <th>27</th>\n",
              "      <td>0.000038</td>\n",
              "      <td>1.000000</td>\n",
              "      <td>2.606228</td>\n",
              "      <td>0.697128</td>\n",
              "    </tr>\n",
              "    <tr>\n",
              "      <th>28</th>\n",
              "      <td>0.000027</td>\n",
              "      <td>1.000000</td>\n",
              "      <td>2.602660</td>\n",
              "      <td>0.699739</td>\n",
              "    </tr>\n",
              "    <tr>\n",
              "      <th>29</th>\n",
              "      <td>0.000025</td>\n",
              "      <td>1.000000</td>\n",
              "      <td>2.520941</td>\n",
              "      <td>0.715405</td>\n",
              "    </tr>\n",
              "    <tr>\n",
              "      <th>30</th>\n",
              "      <td>0.000025</td>\n",
              "      <td>1.000000</td>\n",
              "      <td>2.652156</td>\n",
              "      <td>0.697128</td>\n",
              "    </tr>\n",
              "    <tr>\n",
              "      <th>31</th>\n",
              "      <td>0.000020</td>\n",
              "      <td>1.000000</td>\n",
              "      <td>2.642606</td>\n",
              "      <td>0.704961</td>\n",
              "    </tr>\n",
              "    <tr>\n",
              "      <th>32</th>\n",
              "      <td>0.000020</td>\n",
              "      <td>1.000000</td>\n",
              "      <td>2.756601</td>\n",
              "      <td>0.691906</td>\n",
              "    </tr>\n",
              "    <tr>\n",
              "      <th>33</th>\n",
              "      <td>0.000015</td>\n",
              "      <td>1.000000</td>\n",
              "      <td>2.655158</td>\n",
              "      <td>0.702350</td>\n",
              "    </tr>\n",
              "    <tr>\n",
              "      <th>34</th>\n",
              "      <td>0.000036</td>\n",
              "      <td>1.000000</td>\n",
              "      <td>3.640767</td>\n",
              "      <td>0.610966</td>\n",
              "    </tr>\n",
              "  </tbody>\n",
              "</table>\n",
              "</div>\n",
              "    <div class=\"colab-df-buttons\">\n",
              "\n",
              "  <div class=\"colab-df-container\">\n",
              "    <button class=\"colab-df-convert\" onclick=\"convertToInteractive('df-52094f39-b82d-4be2-8b33-14012428c93c')\"\n",
              "            title=\"Convert this dataframe to an interactive table.\"\n",
              "            style=\"display:none;\">\n",
              "\n",
              "  <svg xmlns=\"http://www.w3.org/2000/svg\" height=\"24px\" viewBox=\"0 -960 960 960\">\n",
              "    <path d=\"M120-120v-720h720v720H120Zm60-500h600v-160H180v160Zm220 220h160v-160H400v160Zm0 220h160v-160H400v160ZM180-400h160v-160H180v160Zm440 0h160v-160H620v160ZM180-180h160v-160H180v160Zm440 0h160v-160H620v160Z\"/>\n",
              "  </svg>\n",
              "    </button>\n",
              "\n",
              "  <style>\n",
              "    .colab-df-container {\n",
              "      display:flex;\n",
              "      gap: 12px;\n",
              "    }\n",
              "\n",
              "    .colab-df-convert {\n",
              "      background-color: #E8F0FE;\n",
              "      border: none;\n",
              "      border-radius: 50%;\n",
              "      cursor: pointer;\n",
              "      display: none;\n",
              "      fill: #1967D2;\n",
              "      height: 32px;\n",
              "      padding: 0 0 0 0;\n",
              "      width: 32px;\n",
              "    }\n",
              "\n",
              "    .colab-df-convert:hover {\n",
              "      background-color: #E2EBFA;\n",
              "      box-shadow: 0px 1px 2px rgba(60, 64, 67, 0.3), 0px 1px 3px 1px rgba(60, 64, 67, 0.15);\n",
              "      fill: #174EA6;\n",
              "    }\n",
              "\n",
              "    .colab-df-buttons div {\n",
              "      margin-bottom: 4px;\n",
              "    }\n",
              "\n",
              "    [theme=dark] .colab-df-convert {\n",
              "      background-color: #3B4455;\n",
              "      fill: #D2E3FC;\n",
              "    }\n",
              "\n",
              "    [theme=dark] .colab-df-convert:hover {\n",
              "      background-color: #434B5C;\n",
              "      box-shadow: 0px 1px 3px 1px rgba(0, 0, 0, 0.15);\n",
              "      filter: drop-shadow(0px 1px 2px rgba(0, 0, 0, 0.3));\n",
              "      fill: #FFFFFF;\n",
              "    }\n",
              "  </style>\n",
              "\n",
              "    <script>\n",
              "      const buttonEl =\n",
              "        document.querySelector('#df-52094f39-b82d-4be2-8b33-14012428c93c button.colab-df-convert');\n",
              "      buttonEl.style.display =\n",
              "        google.colab.kernel.accessAllowed ? 'block' : 'none';\n",
              "\n",
              "      async function convertToInteractive(key) {\n",
              "        const element = document.querySelector('#df-52094f39-b82d-4be2-8b33-14012428c93c');\n",
              "        const dataTable =\n",
              "          await google.colab.kernel.invokeFunction('convertToInteractive',\n",
              "                                                    [key], {});\n",
              "        if (!dataTable) return;\n",
              "\n",
              "        const docLinkHtml = 'Like what you see? Visit the ' +\n",
              "          '<a target=\"_blank\" href=https://colab.research.google.com/notebooks/data_table.ipynb>data table notebook</a>'\n",
              "          + ' to learn more about interactive tables.';\n",
              "        element.innerHTML = '';\n",
              "        dataTable['output_type'] = 'display_data';\n",
              "        await google.colab.output.renderOutput(dataTable, element);\n",
              "        const docLink = document.createElement('div');\n",
              "        docLink.innerHTML = docLinkHtml;\n",
              "        element.appendChild(docLink);\n",
              "      }\n",
              "    </script>\n",
              "  </div>\n",
              "\n",
              "\n",
              "<div id=\"df-a2227c61-4e81-4bf9-9690-3dad76f1c146\">\n",
              "  <button class=\"colab-df-quickchart\" onclick=\"quickchart('df-a2227c61-4e81-4bf9-9690-3dad76f1c146')\"\n",
              "            title=\"Suggest charts\"\n",
              "            style=\"display:none;\">\n",
              "\n",
              "<svg xmlns=\"http://www.w3.org/2000/svg\" height=\"24px\"viewBox=\"0 0 24 24\"\n",
              "     width=\"24px\">\n",
              "    <g>\n",
              "        <path d=\"M19 3H5c-1.1 0-2 .9-2 2v14c0 1.1.9 2 2 2h14c1.1 0 2-.9 2-2V5c0-1.1-.9-2-2-2zM9 17H7v-7h2v7zm4 0h-2V7h2v10zm4 0h-2v-4h2v4z\"/>\n",
              "    </g>\n",
              "</svg>\n",
              "  </button>\n",
              "\n",
              "<style>\n",
              "  .colab-df-quickchart {\n",
              "      --bg-color: #E8F0FE;\n",
              "      --fill-color: #1967D2;\n",
              "      --hover-bg-color: #E2EBFA;\n",
              "      --hover-fill-color: #174EA6;\n",
              "      --disabled-fill-color: #AAA;\n",
              "      --disabled-bg-color: #DDD;\n",
              "  }\n",
              "\n",
              "  [theme=dark] .colab-df-quickchart {\n",
              "      --bg-color: #3B4455;\n",
              "      --fill-color: #D2E3FC;\n",
              "      --hover-bg-color: #434B5C;\n",
              "      --hover-fill-color: #FFFFFF;\n",
              "      --disabled-bg-color: #3B4455;\n",
              "      --disabled-fill-color: #666;\n",
              "  }\n",
              "\n",
              "  .colab-df-quickchart {\n",
              "    background-color: var(--bg-color);\n",
              "    border: none;\n",
              "    border-radius: 50%;\n",
              "    cursor: pointer;\n",
              "    display: none;\n",
              "    fill: var(--fill-color);\n",
              "    height: 32px;\n",
              "    padding: 0;\n",
              "    width: 32px;\n",
              "  }\n",
              "\n",
              "  .colab-df-quickchart:hover {\n",
              "    background-color: var(--hover-bg-color);\n",
              "    box-shadow: 0 1px 2px rgba(60, 64, 67, 0.3), 0 1px 3px 1px rgba(60, 64, 67, 0.15);\n",
              "    fill: var(--button-hover-fill-color);\n",
              "  }\n",
              "\n",
              "  .colab-df-quickchart-complete:disabled,\n",
              "  .colab-df-quickchart-complete:disabled:hover {\n",
              "    background-color: var(--disabled-bg-color);\n",
              "    fill: var(--disabled-fill-color);\n",
              "    box-shadow: none;\n",
              "  }\n",
              "\n",
              "  .colab-df-spinner {\n",
              "    border: 2px solid var(--fill-color);\n",
              "    border-color: transparent;\n",
              "    border-bottom-color: var(--fill-color);\n",
              "    animation:\n",
              "      spin 1s steps(1) infinite;\n",
              "  }\n",
              "\n",
              "  @keyframes spin {\n",
              "    0% {\n",
              "      border-color: transparent;\n",
              "      border-bottom-color: var(--fill-color);\n",
              "      border-left-color: var(--fill-color);\n",
              "    }\n",
              "    20% {\n",
              "      border-color: transparent;\n",
              "      border-left-color: var(--fill-color);\n",
              "      border-top-color: var(--fill-color);\n",
              "    }\n",
              "    30% {\n",
              "      border-color: transparent;\n",
              "      border-left-color: var(--fill-color);\n",
              "      border-top-color: var(--fill-color);\n",
              "      border-right-color: var(--fill-color);\n",
              "    }\n",
              "    40% {\n",
              "      border-color: transparent;\n",
              "      border-right-color: var(--fill-color);\n",
              "      border-top-color: var(--fill-color);\n",
              "    }\n",
              "    60% {\n",
              "      border-color: transparent;\n",
              "      border-right-color: var(--fill-color);\n",
              "    }\n",
              "    80% {\n",
              "      border-color: transparent;\n",
              "      border-right-color: var(--fill-color);\n",
              "      border-bottom-color: var(--fill-color);\n",
              "    }\n",
              "    90% {\n",
              "      border-color: transparent;\n",
              "      border-bottom-color: var(--fill-color);\n",
              "    }\n",
              "  }\n",
              "</style>\n",
              "\n",
              "  <script>\n",
              "    async function quickchart(key) {\n",
              "      const quickchartButtonEl =\n",
              "        document.querySelector('#' + key + ' button');\n",
              "      quickchartButtonEl.disabled = true;  // To prevent multiple clicks.\n",
              "      quickchartButtonEl.classList.add('colab-df-spinner');\n",
              "      try {\n",
              "        const charts = await google.colab.kernel.invokeFunction(\n",
              "            'suggestCharts', [key], {});\n",
              "      } catch (error) {\n",
              "        console.error('Error during call to suggestCharts:', error);\n",
              "      }\n",
              "      quickchartButtonEl.classList.remove('colab-df-spinner');\n",
              "      quickchartButtonEl.classList.add('colab-df-quickchart-complete');\n",
              "    }\n",
              "    (() => {\n",
              "      let quickchartButtonEl =\n",
              "        document.querySelector('#df-a2227c61-4e81-4bf9-9690-3dad76f1c146 button');\n",
              "      quickchartButtonEl.style.display =\n",
              "        google.colab.kernel.accessAllowed ? 'block' : 'none';\n",
              "    })();\n",
              "  </script>\n",
              "</div>\n",
              "\n",
              "  <div id=\"id_5236e21f-9d36-42ae-8274-40cd6cab96be\">\n",
              "    <style>\n",
              "      .colab-df-generate {\n",
              "        background-color: #E8F0FE;\n",
              "        border: none;\n",
              "        border-radius: 50%;\n",
              "        cursor: pointer;\n",
              "        display: none;\n",
              "        fill: #1967D2;\n",
              "        height: 32px;\n",
              "        padding: 0 0 0 0;\n",
              "        width: 32px;\n",
              "      }\n",
              "\n",
              "      .colab-df-generate:hover {\n",
              "        background-color: #E2EBFA;\n",
              "        box-shadow: 0px 1px 2px rgba(60, 64, 67, 0.3), 0px 1px 3px 1px rgba(60, 64, 67, 0.15);\n",
              "        fill: #174EA6;\n",
              "      }\n",
              "\n",
              "      [theme=dark] .colab-df-generate {\n",
              "        background-color: #3B4455;\n",
              "        fill: #D2E3FC;\n",
              "      }\n",
              "\n",
              "      [theme=dark] .colab-df-generate:hover {\n",
              "        background-color: #434B5C;\n",
              "        box-shadow: 0px 1px 3px 1px rgba(0, 0, 0, 0.15);\n",
              "        filter: drop-shadow(0px 1px 2px rgba(0, 0, 0, 0.3));\n",
              "        fill: #FFFFFF;\n",
              "      }\n",
              "    </style>\n",
              "    <button class=\"colab-df-generate\" onclick=\"generateWithVariable('hist_')\"\n",
              "            title=\"Generate code using this dataframe.\"\n",
              "            style=\"display:none;\">\n",
              "\n",
              "  <svg xmlns=\"http://www.w3.org/2000/svg\" height=\"24px\"viewBox=\"0 0 24 24\"\n",
              "       width=\"24px\">\n",
              "    <path d=\"M7,19H8.4L18.45,9,17,7.55,7,17.6ZM5,21V16.75L18.45,3.32a2,2,0,0,1,2.83,0l1.4,1.43a1.91,1.91,0,0,1,.58,1.4,1.91,1.91,0,0,1-.58,1.4L9.25,21ZM18.45,9,17,7.55Zm-12,3A5.31,5.31,0,0,0,4.9,8.1,5.31,5.31,0,0,0,1,6.5,5.31,5.31,0,0,0,4.9,4.9,5.31,5.31,0,0,0,6.5,1,5.31,5.31,0,0,0,8.1,4.9,5.31,5.31,0,0,0,12,6.5,5.46,5.46,0,0,0,6.5,12Z\"/>\n",
              "  </svg>\n",
              "    </button>\n",
              "    <script>\n",
              "      (() => {\n",
              "      const buttonEl =\n",
              "        document.querySelector('#id_5236e21f-9d36-42ae-8274-40cd6cab96be button.colab-df-generate');\n",
              "      buttonEl.style.display =\n",
              "        google.colab.kernel.accessAllowed ? 'block' : 'none';\n",
              "\n",
              "      buttonEl.onclick = () => {\n",
              "        google.colab.notebook.generateWithVariable('hist_');\n",
              "      }\n",
              "      })();\n",
              "    </script>\n",
              "  </div>\n",
              "\n",
              "    </div>\n",
              "  </div>\n"
            ],
            "application/vnd.google.colaboratory.intrinsic+json": {
              "type": "dataframe",
              "variable_name": "hist_",
              "summary": "{\n  \"name\": \"hist_\",\n  \"rows\": 35,\n  \"fields\": [\n    {\n      \"column\": \"loss\",\n      \"properties\": {\n        \"dtype\": \"number\",\n        \"std\": 0.23700651209840987,\n        \"min\": 1.5143160453590099e-05,\n        \"max\": 0.9845433831214905,\n        \"num_unique_values\": 35,\n        \"samples\": [\n          2.8654281777562574e-05,\n          0.00027829676400870085,\n          4.414979775901884e-05\n        ],\n        \"semantic_type\": \"\",\n        \"description\": \"\"\n      }\n    },\n    {\n      \"column\": \"accuracy\",\n      \"properties\": {\n        \"dtype\": \"number\",\n        \"std\": 0.10841660001475197,\n        \"min\": 0.529779314994812,\n        \"max\": 1.0,\n        \"num_unique_values\": 12,\n        \"samples\": [\n          0.9990236163139343,\n          0.9937512278556824,\n          0.529779314994812\n        ],\n        \"semantic_type\": \"\",\n        \"description\": \"\"\n      }\n    },\n    {\n      \"column\": \"val_loss\",\n      \"properties\": {\n        \"dtype\": \"number\",\n        \"std\": 0.653008119525973,\n        \"min\": 0.8283107876777649,\n        \"max\": 3.6407670974731445,\n        \"num_unique_values\": 35,\n        \"samples\": [\n          2.54897403717041,\n          2.1232941150665283,\n          2.5218935012817383\n        ],\n        \"semantic_type\": \"\",\n        \"description\": \"\"\n      }\n    },\n    {\n      \"column\": \"val_accuracy\",\n      \"properties\": {\n        \"dtype\": \"number\",\n        \"std\": 0.03745713484939902,\n        \"min\": 0.5744125247001648,\n        \"max\": 0.7154046893119812,\n        \"num_unique_values\": 20,\n        \"samples\": [\n          0.5744125247001648,\n          0.704960823059082,\n          0.6736292243003845\n        ],\n        \"semantic_type\": \"\",\n        \"description\": \"\"\n      }\n    }\n  ]\n}"
            }
          },
          "metadata": {},
          "execution_count": 52
        }
      ]
    },
    {
      "cell_type": "markdown",
      "source": [
        "# **Model Evaluation**"
      ],
      "metadata": {
        "id": "H5U-0AnsNnlB"
      }
    },
    {
      "cell_type": "code",
      "source": [
        "loss, acc = model1.evaluate(X_test, Y_test_cat)\n",
        "print('loss: ', loss)\n",
        "print('accuracy ', acc)"
      ],
      "metadata": {
        "id": "hAhOrJj7NsU8",
        "outputId": "3bbc71be-78f8-40ae-cf4c-5cd3e3adaff6",
        "colab": {
          "base_uri": "https://localhost:8080/"
        }
      },
      "execution_count": 53,
      "outputs": [
        {
          "output_type": "stream",
          "name": "stdout",
          "text": [
            "28/28 [==============================] - 5s 179ms/step - loss: 4.1002 - accuracy: 0.6004\n",
            "loss:  4.100194454193115\n",
            "accuracy  0.6004464030265808\n"
          ]
        }
      ]
    },
    {
      "cell_type": "code",
      "source": [
        "# Reshape Y_test to a 1-dimensional array\n",
        "Y_test = Y_test.reshape(-1,)\n",
        "\n",
        "predictions = model1.predict(X_test)\n",
        "Y_predected = np.argmax(predictions, axis=1)\n",
        "#Y_test_ = np.argmax(Y_test,axis=0)\n",
        "\n",
        "df = pd.DataFrame({'Actual': Y_test, 'Prediction': Y_predected})\n",
        "df"
      ],
      "metadata": {
        "id": "Rjjfs1ANN1e1",
        "outputId": "2a3a70c4-555a-4fd2-d160-749097b3b7c0",
        "colab": {
          "base_uri": "https://localhost:8080/",
          "height": 442
        }
      },
      "execution_count": 54,
      "outputs": [
        {
          "output_type": "stream",
          "name": "stdout",
          "text": [
            "28/28 [==============================] - 5s 177ms/step\n"
          ]
        },
        {
          "output_type": "execute_result",
          "data": {
            "text/plain": [
              "     Actual  Prediction\n",
              "0         3           3\n",
              "1         3           1\n",
              "2         1           1\n",
              "3         3           1\n",
              "4         3           1\n",
              "..      ...         ...\n",
              "891       0           0\n",
              "892       1           1\n",
              "893       3           3\n",
              "894       3           1\n",
              "895       0           0\n",
              "\n",
              "[896 rows x 2 columns]"
            ],
            "text/html": [
              "\n",
              "  <div id=\"df-71285f6c-92f5-4970-9a8b-6c2022a370bd\" class=\"colab-df-container\">\n",
              "    <div>\n",
              "<style scoped>\n",
              "    .dataframe tbody tr th:only-of-type {\n",
              "        vertical-align: middle;\n",
              "    }\n",
              "\n",
              "    .dataframe tbody tr th {\n",
              "        vertical-align: top;\n",
              "    }\n",
              "\n",
              "    .dataframe thead th {\n",
              "        text-align: right;\n",
              "    }\n",
              "</style>\n",
              "<table border=\"1\" class=\"dataframe\">\n",
              "  <thead>\n",
              "    <tr style=\"text-align: right;\">\n",
              "      <th></th>\n",
              "      <th>Actual</th>\n",
              "      <th>Prediction</th>\n",
              "    </tr>\n",
              "  </thead>\n",
              "  <tbody>\n",
              "    <tr>\n",
              "      <th>0</th>\n",
              "      <td>3</td>\n",
              "      <td>3</td>\n",
              "    </tr>\n",
              "    <tr>\n",
              "      <th>1</th>\n",
              "      <td>3</td>\n",
              "      <td>1</td>\n",
              "    </tr>\n",
              "    <tr>\n",
              "      <th>2</th>\n",
              "      <td>1</td>\n",
              "      <td>1</td>\n",
              "    </tr>\n",
              "    <tr>\n",
              "      <th>3</th>\n",
              "      <td>3</td>\n",
              "      <td>1</td>\n",
              "    </tr>\n",
              "    <tr>\n",
              "      <th>4</th>\n",
              "      <td>3</td>\n",
              "      <td>1</td>\n",
              "    </tr>\n",
              "    <tr>\n",
              "      <th>...</th>\n",
              "      <td>...</td>\n",
              "      <td>...</td>\n",
              "    </tr>\n",
              "    <tr>\n",
              "      <th>891</th>\n",
              "      <td>0</td>\n",
              "      <td>0</td>\n",
              "    </tr>\n",
              "    <tr>\n",
              "      <th>892</th>\n",
              "      <td>1</td>\n",
              "      <td>1</td>\n",
              "    </tr>\n",
              "    <tr>\n",
              "      <th>893</th>\n",
              "      <td>3</td>\n",
              "      <td>3</td>\n",
              "    </tr>\n",
              "    <tr>\n",
              "      <th>894</th>\n",
              "      <td>3</td>\n",
              "      <td>1</td>\n",
              "    </tr>\n",
              "    <tr>\n",
              "      <th>895</th>\n",
              "      <td>0</td>\n",
              "      <td>0</td>\n",
              "    </tr>\n",
              "  </tbody>\n",
              "</table>\n",
              "<p>896 rows × 2 columns</p>\n",
              "</div>\n",
              "    <div class=\"colab-df-buttons\">\n",
              "\n",
              "  <div class=\"colab-df-container\">\n",
              "    <button class=\"colab-df-convert\" onclick=\"convertToInteractive('df-71285f6c-92f5-4970-9a8b-6c2022a370bd')\"\n",
              "            title=\"Convert this dataframe to an interactive table.\"\n",
              "            style=\"display:none;\">\n",
              "\n",
              "  <svg xmlns=\"http://www.w3.org/2000/svg\" height=\"24px\" viewBox=\"0 -960 960 960\">\n",
              "    <path d=\"M120-120v-720h720v720H120Zm60-500h600v-160H180v160Zm220 220h160v-160H400v160Zm0 220h160v-160H400v160ZM180-400h160v-160H180v160Zm440 0h160v-160H620v160ZM180-180h160v-160H180v160Zm440 0h160v-160H620v160Z\"/>\n",
              "  </svg>\n",
              "    </button>\n",
              "\n",
              "  <style>\n",
              "    .colab-df-container {\n",
              "      display:flex;\n",
              "      gap: 12px;\n",
              "    }\n",
              "\n",
              "    .colab-df-convert {\n",
              "      background-color: #E8F0FE;\n",
              "      border: none;\n",
              "      border-radius: 50%;\n",
              "      cursor: pointer;\n",
              "      display: none;\n",
              "      fill: #1967D2;\n",
              "      height: 32px;\n",
              "      padding: 0 0 0 0;\n",
              "      width: 32px;\n",
              "    }\n",
              "\n",
              "    .colab-df-convert:hover {\n",
              "      background-color: #E2EBFA;\n",
              "      box-shadow: 0px 1px 2px rgba(60, 64, 67, 0.3), 0px 1px 3px 1px rgba(60, 64, 67, 0.15);\n",
              "      fill: #174EA6;\n",
              "    }\n",
              "\n",
              "    .colab-df-buttons div {\n",
              "      margin-bottom: 4px;\n",
              "    }\n",
              "\n",
              "    [theme=dark] .colab-df-convert {\n",
              "      background-color: #3B4455;\n",
              "      fill: #D2E3FC;\n",
              "    }\n",
              "\n",
              "    [theme=dark] .colab-df-convert:hover {\n",
              "      background-color: #434B5C;\n",
              "      box-shadow: 0px 1px 3px 1px rgba(0, 0, 0, 0.15);\n",
              "      filter: drop-shadow(0px 1px 2px rgba(0, 0, 0, 0.3));\n",
              "      fill: #FFFFFF;\n",
              "    }\n",
              "  </style>\n",
              "\n",
              "    <script>\n",
              "      const buttonEl =\n",
              "        document.querySelector('#df-71285f6c-92f5-4970-9a8b-6c2022a370bd button.colab-df-convert');\n",
              "      buttonEl.style.display =\n",
              "        google.colab.kernel.accessAllowed ? 'block' : 'none';\n",
              "\n",
              "      async function convertToInteractive(key) {\n",
              "        const element = document.querySelector('#df-71285f6c-92f5-4970-9a8b-6c2022a370bd');\n",
              "        const dataTable =\n",
              "          await google.colab.kernel.invokeFunction('convertToInteractive',\n",
              "                                                    [key], {});\n",
              "        if (!dataTable) return;\n",
              "\n",
              "        const docLinkHtml = 'Like what you see? Visit the ' +\n",
              "          '<a target=\"_blank\" href=https://colab.research.google.com/notebooks/data_table.ipynb>data table notebook</a>'\n",
              "          + ' to learn more about interactive tables.';\n",
              "        element.innerHTML = '';\n",
              "        dataTable['output_type'] = 'display_data';\n",
              "        await google.colab.output.renderOutput(dataTable, element);\n",
              "        const docLink = document.createElement('div');\n",
              "        docLink.innerHTML = docLinkHtml;\n",
              "        element.appendChild(docLink);\n",
              "      }\n",
              "    </script>\n",
              "  </div>\n",
              "\n",
              "\n",
              "<div id=\"df-6bc88314-5dc0-43bf-8d3a-e1926edb8861\">\n",
              "  <button class=\"colab-df-quickchart\" onclick=\"quickchart('df-6bc88314-5dc0-43bf-8d3a-e1926edb8861')\"\n",
              "            title=\"Suggest charts\"\n",
              "            style=\"display:none;\">\n",
              "\n",
              "<svg xmlns=\"http://www.w3.org/2000/svg\" height=\"24px\"viewBox=\"0 0 24 24\"\n",
              "     width=\"24px\">\n",
              "    <g>\n",
              "        <path d=\"M19 3H5c-1.1 0-2 .9-2 2v14c0 1.1.9 2 2 2h14c1.1 0 2-.9 2-2V5c0-1.1-.9-2-2-2zM9 17H7v-7h2v7zm4 0h-2V7h2v10zm4 0h-2v-4h2v4z\"/>\n",
              "    </g>\n",
              "</svg>\n",
              "  </button>\n",
              "\n",
              "<style>\n",
              "  .colab-df-quickchart {\n",
              "      --bg-color: #E8F0FE;\n",
              "      --fill-color: #1967D2;\n",
              "      --hover-bg-color: #E2EBFA;\n",
              "      --hover-fill-color: #174EA6;\n",
              "      --disabled-fill-color: #AAA;\n",
              "      --disabled-bg-color: #DDD;\n",
              "  }\n",
              "\n",
              "  [theme=dark] .colab-df-quickchart {\n",
              "      --bg-color: #3B4455;\n",
              "      --fill-color: #D2E3FC;\n",
              "      --hover-bg-color: #434B5C;\n",
              "      --hover-fill-color: #FFFFFF;\n",
              "      --disabled-bg-color: #3B4455;\n",
              "      --disabled-fill-color: #666;\n",
              "  }\n",
              "\n",
              "  .colab-df-quickchart {\n",
              "    background-color: var(--bg-color);\n",
              "    border: none;\n",
              "    border-radius: 50%;\n",
              "    cursor: pointer;\n",
              "    display: none;\n",
              "    fill: var(--fill-color);\n",
              "    height: 32px;\n",
              "    padding: 0;\n",
              "    width: 32px;\n",
              "  }\n",
              "\n",
              "  .colab-df-quickchart:hover {\n",
              "    background-color: var(--hover-bg-color);\n",
              "    box-shadow: 0 1px 2px rgba(60, 64, 67, 0.3), 0 1px 3px 1px rgba(60, 64, 67, 0.15);\n",
              "    fill: var(--button-hover-fill-color);\n",
              "  }\n",
              "\n",
              "  .colab-df-quickchart-complete:disabled,\n",
              "  .colab-df-quickchart-complete:disabled:hover {\n",
              "    background-color: var(--disabled-bg-color);\n",
              "    fill: var(--disabled-fill-color);\n",
              "    box-shadow: none;\n",
              "  }\n",
              "\n",
              "  .colab-df-spinner {\n",
              "    border: 2px solid var(--fill-color);\n",
              "    border-color: transparent;\n",
              "    border-bottom-color: var(--fill-color);\n",
              "    animation:\n",
              "      spin 1s steps(1) infinite;\n",
              "  }\n",
              "\n",
              "  @keyframes spin {\n",
              "    0% {\n",
              "      border-color: transparent;\n",
              "      border-bottom-color: var(--fill-color);\n",
              "      border-left-color: var(--fill-color);\n",
              "    }\n",
              "    20% {\n",
              "      border-color: transparent;\n",
              "      border-left-color: var(--fill-color);\n",
              "      border-top-color: var(--fill-color);\n",
              "    }\n",
              "    30% {\n",
              "      border-color: transparent;\n",
              "      border-left-color: var(--fill-color);\n",
              "      border-top-color: var(--fill-color);\n",
              "      border-right-color: var(--fill-color);\n",
              "    }\n",
              "    40% {\n",
              "      border-color: transparent;\n",
              "      border-right-color: var(--fill-color);\n",
              "      border-top-color: var(--fill-color);\n",
              "    }\n",
              "    60% {\n",
              "      border-color: transparent;\n",
              "      border-right-color: var(--fill-color);\n",
              "    }\n",
              "    80% {\n",
              "      border-color: transparent;\n",
              "      border-right-color: var(--fill-color);\n",
              "      border-bottom-color: var(--fill-color);\n",
              "    }\n",
              "    90% {\n",
              "      border-color: transparent;\n",
              "      border-bottom-color: var(--fill-color);\n",
              "    }\n",
              "  }\n",
              "</style>\n",
              "\n",
              "  <script>\n",
              "    async function quickchart(key) {\n",
              "      const quickchartButtonEl =\n",
              "        document.querySelector('#' + key + ' button');\n",
              "      quickchartButtonEl.disabled = true;  // To prevent multiple clicks.\n",
              "      quickchartButtonEl.classList.add('colab-df-spinner');\n",
              "      try {\n",
              "        const charts = await google.colab.kernel.invokeFunction(\n",
              "            'suggestCharts', [key], {});\n",
              "      } catch (error) {\n",
              "        console.error('Error during call to suggestCharts:', error);\n",
              "      }\n",
              "      quickchartButtonEl.classList.remove('colab-df-spinner');\n",
              "      quickchartButtonEl.classList.add('colab-df-quickchart-complete');\n",
              "    }\n",
              "    (() => {\n",
              "      let quickchartButtonEl =\n",
              "        document.querySelector('#df-6bc88314-5dc0-43bf-8d3a-e1926edb8861 button');\n",
              "      quickchartButtonEl.style.display =\n",
              "        google.colab.kernel.accessAllowed ? 'block' : 'none';\n",
              "    })();\n",
              "  </script>\n",
              "</div>\n",
              "\n",
              "  <div id=\"id_d992f469-8c5e-44af-85d2-a238c677da95\">\n",
              "    <style>\n",
              "      .colab-df-generate {\n",
              "        background-color: #E8F0FE;\n",
              "        border: none;\n",
              "        border-radius: 50%;\n",
              "        cursor: pointer;\n",
              "        display: none;\n",
              "        fill: #1967D2;\n",
              "        height: 32px;\n",
              "        padding: 0 0 0 0;\n",
              "        width: 32px;\n",
              "      }\n",
              "\n",
              "      .colab-df-generate:hover {\n",
              "        background-color: #E2EBFA;\n",
              "        box-shadow: 0px 1px 2px rgba(60, 64, 67, 0.3), 0px 1px 3px 1px rgba(60, 64, 67, 0.15);\n",
              "        fill: #174EA6;\n",
              "      }\n",
              "\n",
              "      [theme=dark] .colab-df-generate {\n",
              "        background-color: #3B4455;\n",
              "        fill: #D2E3FC;\n",
              "      }\n",
              "\n",
              "      [theme=dark] .colab-df-generate:hover {\n",
              "        background-color: #434B5C;\n",
              "        box-shadow: 0px 1px 3px 1px rgba(0, 0, 0, 0.15);\n",
              "        filter: drop-shadow(0px 1px 2px rgba(0, 0, 0, 0.3));\n",
              "        fill: #FFFFFF;\n",
              "      }\n",
              "    </style>\n",
              "    <button class=\"colab-df-generate\" onclick=\"generateWithVariable('df')\"\n",
              "            title=\"Generate code using this dataframe.\"\n",
              "            style=\"display:none;\">\n",
              "\n",
              "  <svg xmlns=\"http://www.w3.org/2000/svg\" height=\"24px\"viewBox=\"0 0 24 24\"\n",
              "       width=\"24px\">\n",
              "    <path d=\"M7,19H8.4L18.45,9,17,7.55,7,17.6ZM5,21V16.75L18.45,3.32a2,2,0,0,1,2.83,0l1.4,1.43a1.91,1.91,0,0,1,.58,1.4,1.91,1.91,0,0,1-.58,1.4L9.25,21ZM18.45,9,17,7.55Zm-12,3A5.31,5.31,0,0,0,4.9,8.1,5.31,5.31,0,0,0,1,6.5,5.31,5.31,0,0,0,4.9,4.9,5.31,5.31,0,0,0,6.5,1,5.31,5.31,0,0,0,8.1,4.9,5.31,5.31,0,0,0,12,6.5,5.46,5.46,0,0,0,6.5,12Z\"/>\n",
              "  </svg>\n",
              "    </button>\n",
              "    <script>\n",
              "      (() => {\n",
              "      const buttonEl =\n",
              "        document.querySelector('#id_d992f469-8c5e-44af-85d2-a238c677da95 button.colab-df-generate');\n",
              "      buttonEl.style.display =\n",
              "        google.colab.kernel.accessAllowed ? 'block' : 'none';\n",
              "\n",
              "      buttonEl.onclick = () => {\n",
              "        google.colab.notebook.generateWithVariable('df');\n",
              "      }\n",
              "      })();\n",
              "    </script>\n",
              "  </div>\n",
              "\n",
              "    </div>\n",
              "  </div>\n"
            ],
            "application/vnd.google.colaboratory.intrinsic+json": {
              "type": "dataframe",
              "variable_name": "df",
              "summary": "{\n  \"name\": \"df\",\n  \"rows\": 896,\n  \"fields\": [\n    {\n      \"column\": \"Actual\",\n      \"properties\": {\n        \"dtype\": \"number\",\n        \"std\": 1,\n        \"min\": 0,\n        \"max\": 3,\n        \"num_unique_values\": 4,\n        \"samples\": [\n          1,\n          2,\n          3\n        ],\n        \"semantic_type\": \"\",\n        \"description\": \"\"\n      }\n    },\n    {\n      \"column\": \"Prediction\",\n      \"properties\": {\n        \"dtype\": \"number\",\n        \"std\": 0,\n        \"min\": 0,\n        \"max\": 3,\n        \"num_unique_values\": 4,\n        \"samples\": [\n          1,\n          2,\n          3\n        ],\n        \"semantic_type\": \"\",\n        \"description\": \"\"\n      }\n    }\n  ]\n}"
            }
          },
          "metadata": {},
          "execution_count": 54
        }
      ]
    },
    {
      "cell_type": "code",
      "source": [
        "CM = confusion_matrix(Y_test,Y_predected)\n",
        "CM_percent = CM.astype('float') / CM.sum(axis=1)[:, np.newaxis]\n",
        "\n",
        "sns.heatmap(CM_percent,fmt='g',center = True,cbar=False,annot=True,cmap='Blues')\n",
        "CM"
      ],
      "metadata": {
        "colab": {
          "base_uri": "https://localhost:8080/",
          "height": 501
        },
        "id": "V883lZCBqEgj",
        "outputId": "cec6c2b4-869d-4fa3-f2c4-9160c8c09c84"
      },
      "execution_count": 55,
      "outputs": [
        {
          "output_type": "execute_result",
          "data": {
            "text/plain": [
              "array([[ 31,  84,   0,  12],\n",
              "       [  5, 305,   0,  20],\n",
              "       [  1,   4,   3,   0],\n",
              "       [  5, 227,   0, 199]])"
            ]
          },
          "metadata": {},
          "execution_count": 55
        },
        {
          "output_type": "display_data",
          "data": {
            "text/plain": [
              "<Figure size 640x480 with 1 Axes>"
            ],
            "image/png": "[encoded data removed]"
          },
          "metadata": {}
        }
      ]
    },
    {
      "cell_type": "code",
      "source": [
        "print(classification_report(Y_test, Y_predected))"
      ],
      "metadata": {
        "id": "jFtuqVUeOdYf",
        "outputId": "1f929339-0a11-41e0-e918-79702dfd5d46",
        "colab": {
          "base_uri": "https://localhost:8080/"
        }
      },
      "execution_count": 56,
      "outputs": [
        {
          "output_type": "stream",
          "name": "stdout",
          "text": [
            "              precision    recall  f1-score   support\n",
            "\n",
            "           0       0.74      0.24      0.37       127\n",
            "           1       0.49      0.92      0.64       330\n",
            "           2       1.00      0.38      0.55         8\n",
            "           3       0.86      0.46      0.60       431\n",
            "\n",
            "    accuracy                           0.60       896\n",
            "   macro avg       0.77      0.50      0.54       896\n",
            "weighted avg       0.71      0.60      0.58       896\n",
            "\n"
          ]
        }
      ]
    }
  ]
}